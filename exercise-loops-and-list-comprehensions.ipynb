{
 "cells": [
  {
   "cell_type": "markdown",
   "id": "cd4c8721",
   "metadata": {
    "papermill": {
     "duration": 0.006614,
     "end_time": "2023-08-17T18:24:57.612643",
     "exception": false,
     "start_time": "2023-08-17T18:24:57.606029",
     "status": "completed"
    },
    "tags": []
   },
   "source": [
    "**This notebook is an exercise in the [Python](https://www.kaggle.com/learn/python) course.  You can reference the tutorial at [this link](https://www.kaggle.com/colinmorris/loops-and-list-comprehensions).**\n",
    "\n",
    "---\n"
   ]
  },
  {
   "cell_type": "markdown",
   "id": "88b36ec7",
   "metadata": {
    "papermill": {
     "duration": 0.005738,
     "end_time": "2023-08-17T18:24:57.626144",
     "exception": false,
     "start_time": "2023-08-17T18:24:57.620406",
     "status": "completed"
    },
    "tags": []
   },
   "source": [
    "With all you've learned, you can start writing much more interesting programs. See if you can solve the problems below.\n",
    "\n",
    "As always, run the setup code below before working on the questions."
   ]
  },
  {
   "cell_type": "code",
   "execution_count": 1,
   "id": "9940d9db",
   "metadata": {
    "execution": {
     "iopub.execute_input": "2023-08-17T18:24:57.638073Z",
     "iopub.status.busy": "2023-08-17T18:24:57.636928Z",
     "iopub.status.idle": "2023-08-17T18:24:57.701817Z",
     "shell.execute_reply": "2023-08-17T18:24:57.699792Z"
    },
    "papermill": {
     "duration": 0.074209,
     "end_time": "2023-08-17T18:24:57.705175",
     "exception": false,
     "start_time": "2023-08-17T18:24:57.630966",
     "status": "completed"
    },
    "tags": []
   },
   "outputs": [
    {
     "name": "stdout",
     "output_type": "stream",
     "text": [
      "Setup complete.\n"
     ]
    }
   ],
   "source": [
    "from learntools.core import binder; binder.bind(globals())\n",
    "from learntools.python.ex5 import *\n",
    "print('Setup complete.')"
   ]
  },
  {
   "cell_type": "markdown",
   "id": "e3a675a8",
   "metadata": {
    "papermill": {
     "duration": 0.004922,
     "end_time": "2023-08-17T18:24:57.715352",
     "exception": false,
     "start_time": "2023-08-17T18:24:57.710430",
     "status": "completed"
    },
    "tags": []
   },
   "source": [
    "# 1.\n",
    "\n",
    "Have you ever felt debugging involved a bit of luck? The following program has a bug. Try to identify the bug and fix it."
   ]
  },
  {
   "cell_type": "code",
   "execution_count": 2,
   "id": "c51d285c",
   "metadata": {
    "execution": {
     "iopub.execute_input": "2023-08-17T18:24:57.727374Z",
     "iopub.status.busy": "2023-08-17T18:24:57.726935Z",
     "iopub.status.idle": "2023-08-17T18:24:57.732765Z",
     "shell.execute_reply": "2023-08-17T18:24:57.731958Z"
    },
    "papermill": {
     "duration": 0.014049,
     "end_time": "2023-08-17T18:24:57.734676",
     "exception": false,
     "start_time": "2023-08-17T18:24:57.720627",
     "status": "completed"
    },
    "tags": []
   },
   "outputs": [],
   "source": [
    "def has_lucky_number(nums):\n",
    "    \"\"\"Return whether the given list of numbers is lucky. A lucky list contains\n",
    "    at least one number divisible by 7.\n",
    "    \"\"\"\n",
    "    for num in nums:\n",
    "        if num % 7 == 0:\n",
    "            return True\n",
    "        else:\n",
    "            return False"
   ]
  },
  {
   "cell_type": "markdown",
   "id": "6eb3cde5",
   "metadata": {
    "papermill": {
     "duration": 0.004456,
     "end_time": "2023-08-17T18:24:57.744058",
     "exception": false,
     "start_time": "2023-08-17T18:24:57.739602",
     "status": "completed"
    },
    "tags": []
   },
   "source": [
    "Try to identify the bug and fix it in the cell below:"
   ]
  },
  {
   "cell_type": "code",
   "execution_count": 3,
   "id": "2c92c523",
   "metadata": {
    "execution": {
     "iopub.execute_input": "2023-08-17T18:24:57.755661Z",
     "iopub.status.busy": "2023-08-17T18:24:57.755295Z",
     "iopub.status.idle": "2023-08-17T18:24:57.768588Z",
     "shell.execute_reply": "2023-08-17T18:24:57.766857Z"
    },
    "papermill": {
     "duration": 0.022806,
     "end_time": "2023-08-17T18:24:57.771419",
     "exception": false,
     "start_time": "2023-08-17T18:24:57.748613",
     "status": "completed"
    },
    "tags": []
   },
   "outputs": [
    {
     "data": {
      "application/javascript": [
       "parent.postMessage({\"jupyterEvent\": \"custom.exercise_interaction\", \"data\": {\"outcomeType\": 1, \"valueTowardsCompletion\": 0.25, \"interactionType\": 1, \"questionType\": 2, \"questionId\": \"1_EarlyExitDebugging\", \"learnToolsVersion\": \"0.3.4\", \"failureMessage\": \"\", \"exceptionClass\": \"\", \"trace\": \"\"}}, \"*\")"
      ],
      "text/plain": [
       "<IPython.core.display.Javascript object>"
      ]
     },
     "metadata": {},
     "output_type": "display_data"
    },
    {
     "data": {
      "text/markdown": [
       "<span style=\"color:#33cc33\">Correct:</span> \n",
       "\n",
       "Remember that `return` causes a function to exit immediately. So our original implementation always ran for just one iteration. We can only return `False` if we've looked at every element of the list (and confirmed that none of them are lucky). Though we can return early if the answer is `True`:\n",
       "\n",
       "```python\n",
       "def has_lucky_number(nums):\n",
       "    for num in nums:\n",
       "        if num % 7 == 0:\n",
       "            return True\n",
       "    # We've exhausted the list without finding a lucky number\n",
       "    return False\n",
       "```\n",
       "\n",
       "Here's a one-line version using a list comprehension with Python's `any` function (you can read about what it does by calling `help(any)`):\n",
       "\n",
       "```python\n",
       "def has_lucky_number(nums):\n",
       "    return any([num % 7 == 0 for num in nums])\n",
       "```\n"
      ],
      "text/plain": [
       "Correct: \n",
       "\n",
       "Remember that `return` causes a function to exit immediately. So our original implementation always ran for just one iteration. We can only return `False` if we've looked at every element of the list (and confirmed that none of them are lucky). Though we can return early if the answer is `True`:\n",
       "\n",
       "```python\n",
       "def has_lucky_number(nums):\n",
       "    for num in nums:\n",
       "        if num % 7 == 0:\n",
       "            return True\n",
       "    # We've exhausted the list without finding a lucky number\n",
       "    return False\n",
       "```\n",
       "\n",
       "Here's a one-line version using a list comprehension with Python's `any` function (you can read about what it does by calling `help(any)`):\n",
       "\n",
       "```python\n",
       "def has_lucky_number(nums):\n",
       "    return any([num % 7 == 0 for num in nums])\n",
       "```"
      ]
     },
     "metadata": {},
     "output_type": "display_data"
    }
   ],
   "source": [
    "def has_lucky_number(nums):\n",
    "    \"\"\"Return whether the given list of numbers is lucky. A lucky list contains\n",
    "    at least one number divisible by 7.\n",
    "    \"\"\"\n",
    "    for num in nums:\n",
    "        if num % 7 == 0:\n",
    "            return True\n",
    "    # We've exhausted the list without finding a lucky number\n",
    "    return False\n",
    "# Check your answer\n",
    "q1.check()"
   ]
  },
  {
   "cell_type": "code",
   "execution_count": 4,
   "id": "c6b1c25b",
   "metadata": {
    "execution": {
     "iopub.execute_input": "2023-08-17T18:24:57.783092Z",
     "iopub.status.busy": "2023-08-17T18:24:57.782728Z",
     "iopub.status.idle": "2023-08-17T18:24:57.795508Z",
     "shell.execute_reply": "2023-08-17T18:24:57.794056Z"
    },
    "papermill": {
     "duration": 0.021924,
     "end_time": "2023-08-17T18:24:57.798407",
     "exception": false,
     "start_time": "2023-08-17T18:24:57.776483",
     "status": "completed"
    },
    "tags": []
   },
   "outputs": [
    {
     "data": {
      "application/javascript": [
       "parent.postMessage({\"jupyterEvent\": \"custom.exercise_interaction\", \"data\": {\"interactionType\": 2, \"questionType\": 2, \"questionId\": \"1_EarlyExitDebugging\", \"learnToolsVersion\": \"0.3.4\", \"valueTowardsCompletion\": 0.0, \"failureMessage\": \"\", \"exceptionClass\": \"\", \"trace\": \"\", \"outcomeType\": 4}}, \"*\")"
      ],
      "text/plain": [
       "<IPython.core.display.Javascript object>"
      ]
     },
     "metadata": {},
     "output_type": "display_data"
    },
    {
     "data": {
      "text/markdown": [
       "<span style=\"color:#3366cc\">Hint:</span> How many times does the body of the loop run for a list of length n? (If you're not sure, try adding a `print()` call on the line before the `if`.)"
      ],
      "text/plain": [
       "Hint: How many times does the body of the loop run for a list of length n? (If you're not sure, try adding a `print()` call on the line before the `if`.)"
      ]
     },
     "metadata": {},
     "output_type": "display_data"
    },
    {
     "data": {
      "application/javascript": [
       "parent.postMessage({\"jupyterEvent\": \"custom.exercise_interaction\", \"data\": {\"interactionType\": 3, \"questionType\": 2, \"questionId\": \"1_EarlyExitDebugging\", \"learnToolsVersion\": \"0.3.4\", \"valueTowardsCompletion\": 0.0, \"failureMessage\": \"\", \"exceptionClass\": \"\", \"trace\": \"\", \"outcomeType\": 4}}, \"*\")"
      ],
      "text/plain": [
       "<IPython.core.display.Javascript object>"
      ]
     },
     "metadata": {},
     "output_type": "display_data"
    },
    {
     "data": {
      "text/markdown": [
       "<span style=\"color:#33cc99\">Solution:</span> Remember that `return` causes a function to exit immediately. So our original implementation always ran for just one iteration. We can only return `False` if we've looked at every element of the list (and confirmed that none of them are lucky). Though we can return early if the answer is `True`:\n",
       "\n",
       "```python\n",
       "def has_lucky_number(nums):\n",
       "    for num in nums:\n",
       "        if num % 7 == 0:\n",
       "            return True\n",
       "    # We've exhausted the list without finding a lucky number\n",
       "    return False\n",
       "```\n",
       "\n",
       "Here's a one-line version using a list comprehension with Python's `any` function (you can read about what it does by calling `help(any)`):\n",
       "\n",
       "```python\n",
       "def has_lucky_number(nums):\n",
       "    return any([num % 7 == 0 for num in nums])\n",
       "```\n"
      ],
      "text/plain": [
       "Solution: Remember that `return` causes a function to exit immediately. So our original implementation always ran for just one iteration. We can only return `False` if we've looked at every element of the list (and confirmed that none of them are lucky). Though we can return early if the answer is `True`:\n",
       "\n",
       "```python\n",
       "def has_lucky_number(nums):\n",
       "    for num in nums:\n",
       "        if num % 7 == 0:\n",
       "            return True\n",
       "    # We've exhausted the list without finding a lucky number\n",
       "    return False\n",
       "```\n",
       "\n",
       "Here's a one-line version using a list comprehension with Python's `any` function (you can read about what it does by calling `help(any)`):\n",
       "\n",
       "```python\n",
       "def has_lucky_number(nums):\n",
       "    return any([num % 7 == 0 for num in nums])\n",
       "```"
      ]
     },
     "metadata": {},
     "output_type": "display_data"
    }
   ],
   "source": [
    "q1.hint()\n",
    "q1.solution()"
   ]
  },
  {
   "cell_type": "markdown",
   "id": "ccf27367",
   "metadata": {
    "papermill": {
     "duration": 0.006614,
     "end_time": "2023-08-17T18:24:57.810718",
     "exception": false,
     "start_time": "2023-08-17T18:24:57.804104",
     "status": "completed"
    },
    "tags": []
   },
   "source": [
    "# 2.\n",
    "Look at the Python expression below. What do you think we'll get when we run it? When you've made your prediction, uncomment the code and run the cell to see if you were right."
   ]
  },
  {
   "cell_type": "code",
   "execution_count": 5,
   "id": "998c0288",
   "metadata": {
    "execution": {
     "iopub.execute_input": "2023-08-17T18:24:57.823153Z",
     "iopub.status.busy": "2023-08-17T18:24:57.822733Z",
     "iopub.status.idle": "2023-08-17T18:24:57.827732Z",
     "shell.execute_reply": "2023-08-17T18:24:57.826120Z"
    },
    "papermill": {
     "duration": 0.014342,
     "end_time": "2023-08-17T18:24:57.830324",
     "exception": false,
     "start_time": "2023-08-17T18:24:57.815982",
     "status": "completed"
    },
    "tags": []
   },
   "outputs": [],
   "source": [
    "#[1, 2, 3, 4] > 2"
   ]
  },
  {
   "cell_type": "markdown",
   "id": "fd136c8f",
   "metadata": {
    "papermill": {
     "duration": 0.005344,
     "end_time": "2023-08-17T18:24:57.841648",
     "exception": false,
     "start_time": "2023-08-17T18:24:57.836304",
     "status": "completed"
    },
    "tags": []
   },
   "source": [
    "R and Python have some libraries (like numpy and pandas) compare each element of the list to 2 (i.e. do an 'element-wise' comparison) and give us a list of booleans like `[False, False, True, True]`. \n",
    "\n",
    "Implement a function that reproduces this behaviour, returning a list of booleans corresponding to whether the corresponding element is greater than n."
   ]
  },
  {
   "cell_type": "code",
   "execution_count": 6,
   "id": "0fe9a269",
   "metadata": {
    "execution": {
     "iopub.execute_input": "2023-08-17T18:24:57.862398Z",
     "iopub.status.busy": "2023-08-17T18:24:57.859399Z",
     "iopub.status.idle": "2023-08-17T18:24:57.872011Z",
     "shell.execute_reply": "2023-08-17T18:24:57.870579Z"
    },
    "papermill": {
     "duration": 0.026993,
     "end_time": "2023-08-17T18:24:57.875508",
     "exception": false,
     "start_time": "2023-08-17T18:24:57.848515",
     "status": "completed"
    },
    "tags": []
   },
   "outputs": [
    {
     "data": {
      "application/javascript": [
       "parent.postMessage({\"jupyterEvent\": \"custom.exercise_interaction\", \"data\": {\"outcomeType\": 4, \"interactionType\": 1, \"questionType\": 2, \"questionId\": \"2_ElementWiseComparison\", \"learnToolsVersion\": \"0.3.4\", \"valueTowardsCompletion\": 0.0, \"failureMessage\": \"\", \"exceptionClass\": \"\", \"trace\": \"\"}}, \"*\")"
      ],
      "text/plain": [
       "<IPython.core.display.Javascript object>"
      ]
     },
     "metadata": {},
     "output_type": "display_data"
    },
    {
     "data": {
      "text/markdown": [
       "<span style=\"color:#ccaa33\">Check:</span> When you've updated the starter code, `check()` will tell you whether your code is correct. "
      ],
      "text/plain": [
       "Check: When you've updated the starter code, `check()` will tell you whether your code is correct. "
      ]
     },
     "metadata": {},
     "output_type": "display_data"
    }
   ],
   "source": [
    "def elementwise_greater_than(L, thresh):\n",
    "    \"\"\"Return a list with the same length as L, where the value at index i is \n",
    "    True if L[i] is greater than thresh, and False otherwise.\n",
    "    \n",
    "    >>> elementwise_greater_than([1, 2, 3, 4], 2)\n",
    "    [False, False, True, True]\n",
    "    \"\"\"\n",
    "    pass\n",
    "\n",
    "# Check your answer\n",
    "q2.check()"
   ]
  },
  {
   "cell_type": "code",
   "execution_count": 7,
   "id": "c3e22b1e",
   "metadata": {
    "execution": {
     "iopub.execute_input": "2023-08-17T18:24:57.891941Z",
     "iopub.status.busy": "2023-08-17T18:24:57.890629Z",
     "iopub.status.idle": "2023-08-17T18:24:57.896904Z",
     "shell.execute_reply": "2023-08-17T18:24:57.895072Z"
    },
    "papermill": {
     "duration": 0.016696,
     "end_time": "2023-08-17T18:24:57.899798",
     "exception": false,
     "start_time": "2023-08-17T18:24:57.883102",
     "status": "completed"
    },
    "tags": []
   },
   "outputs": [],
   "source": [
    "#q2.solution()"
   ]
  },
  {
   "cell_type": "markdown",
   "id": "3298c098",
   "metadata": {
    "papermill": {
     "duration": 0.007638,
     "end_time": "2023-08-17T18:24:57.914368",
     "exception": false,
     "start_time": "2023-08-17T18:24:57.906730",
     "status": "completed"
    },
    "tags": []
   },
   "source": [
    "# 3.\n",
    "\n",
    "Complete the body of the function below according to its docstring."
   ]
  },
  {
   "cell_type": "code",
   "execution_count": 8,
   "id": "20594709",
   "metadata": {
    "execution": {
     "iopub.execute_input": "2023-08-17T18:24:57.930002Z",
     "iopub.status.busy": "2023-08-17T18:24:57.929472Z",
     "iopub.status.idle": "2023-08-17T18:24:57.940658Z",
     "shell.execute_reply": "2023-08-17T18:24:57.939261Z"
    },
    "papermill": {
     "duration": 0.021391,
     "end_time": "2023-08-17T18:24:57.943310",
     "exception": false,
     "start_time": "2023-08-17T18:24:57.921919",
     "status": "completed"
    },
    "tags": []
   },
   "outputs": [
    {
     "data": {
      "application/javascript": [
       "parent.postMessage({\"jupyterEvent\": \"custom.exercise_interaction\", \"data\": {\"outcomeType\": 4, \"interactionType\": 1, \"questionType\": 2, \"questionId\": \"3_BoringMenu\", \"learnToolsVersion\": \"0.3.4\", \"valueTowardsCompletion\": 0.0, \"failureMessage\": \"\", \"exceptionClass\": \"\", \"trace\": \"\"}}, \"*\")"
      ],
      "text/plain": [
       "<IPython.core.display.Javascript object>"
      ]
     },
     "metadata": {},
     "output_type": "display_data"
    },
    {
     "data": {
      "text/markdown": [
       "<span style=\"color:#ccaa33\">Check:</span> When you've updated the starter code, `check()` will tell you whether your code is correct. "
      ],
      "text/plain": [
       "Check: When you've updated the starter code, `check()` will tell you whether your code is correct. "
      ]
     },
     "metadata": {},
     "output_type": "display_data"
    }
   ],
   "source": [
    "def menu_is_boring(meals):\n",
    "    \"\"\"Given a list of meals served over some period of time, return True if the\n",
    "    same meal has ever been served two days in a row, and False otherwise.\n",
    "    \"\"\"\n",
    "    pass\n",
    "\n",
    "# Check your answer\n",
    "q3.check()"
   ]
  },
  {
   "cell_type": "code",
   "execution_count": 9,
   "id": "52657802",
   "metadata": {
    "execution": {
     "iopub.execute_input": "2023-08-17T18:24:57.959457Z",
     "iopub.status.busy": "2023-08-17T18:24:57.958571Z",
     "iopub.status.idle": "2023-08-17T18:24:57.965651Z",
     "shell.execute_reply": "2023-08-17T18:24:57.963384Z"
    },
    "papermill": {
     "duration": 0.018642,
     "end_time": "2023-08-17T18:24:57.968845",
     "exception": false,
     "start_time": "2023-08-17T18:24:57.950203",
     "status": "completed"
    },
    "tags": []
   },
   "outputs": [],
   "source": [
    "#q3.hint()\n",
    "#q3.solution()"
   ]
  },
  {
   "cell_type": "markdown",
   "id": "5a33afbb",
   "metadata": {
    "papermill": {
     "duration": 0.006792,
     "end_time": "2023-08-17T18:24:57.982309",
     "exception": false,
     "start_time": "2023-08-17T18:24:57.975517",
     "status": "completed"
    },
    "tags": []
   },
   "source": [
    "# 4. <span title=\"A bit spicy\" style=\"color: darkgreen \">🌶️</span>\n",
    "\n",
    "Next to the Blackjack table, the Python Challenge Casino has a slot machine. You can get a result from the slot machine by calling `play_slot_machine()`. The number it returns is your winnings in dollars. Usually it returns 0.  But sometimes you'll get lucky and get a big payday. Try running it below:"
   ]
  },
  {
   "cell_type": "code",
   "execution_count": 10,
   "id": "397350b9",
   "metadata": {
    "execution": {
     "iopub.execute_input": "2023-08-17T18:24:57.997899Z",
     "iopub.status.busy": "2023-08-17T18:24:57.996766Z",
     "iopub.status.idle": "2023-08-17T18:24:58.003037Z",
     "shell.execute_reply": "2023-08-17T18:24:58.002278Z"
    },
    "papermill": {
     "duration": 0.016969,
     "end_time": "2023-08-17T18:24:58.005911",
     "exception": false,
     "start_time": "2023-08-17T18:24:57.988942",
     "status": "completed"
    },
    "tags": []
   },
   "outputs": [
    {
     "data": {
      "text/plain": [
       "0"
      ]
     },
     "execution_count": 10,
     "metadata": {},
     "output_type": "execute_result"
    }
   ],
   "source": [
    "play_slot_machine()"
   ]
  },
  {
   "cell_type": "markdown",
   "id": "485bf0a0",
   "metadata": {
    "papermill": {
     "duration": 0.006916,
     "end_time": "2023-08-17T18:24:58.019890",
     "exception": false,
     "start_time": "2023-08-17T18:24:58.012974",
     "status": "completed"
    },
    "tags": []
   },
   "source": [
    "By the way, did we mention that each play costs $1? Don't worry, we'll send you the bill later.\n",
    "\n",
    "On average, how much money can you expect to gain (or lose) every time you play the machine?  The casino keeps it a secret, but you can estimate the average value of each pull using a technique called the **Monte Carlo method**. To estimate the average outcome, we simulate the scenario many times, and return the average result.\n",
    "\n",
    "Complete the following function to calculate the average value per play of the slot machine."
   ]
  },
  {
   "cell_type": "code",
   "execution_count": 11,
   "id": "91191598",
   "metadata": {
    "execution": {
     "iopub.execute_input": "2023-08-17T18:24:58.036203Z",
     "iopub.status.busy": "2023-08-17T18:24:58.034534Z",
     "iopub.status.idle": "2023-08-17T18:24:58.041863Z",
     "shell.execute_reply": "2023-08-17T18:24:58.040709Z"
    },
    "papermill": {
     "duration": 0.018008,
     "end_time": "2023-08-17T18:24:58.044543",
     "exception": false,
     "start_time": "2023-08-17T18:24:58.026535",
     "status": "completed"
    },
    "tags": []
   },
   "outputs": [],
   "source": [
    "def estimate_average_slot_payout(n_runs):\n",
    "    \"\"\"Run the slot machine n_runs times and return the average net profit per run.\n",
    "    Example calls (note that return value is nondeterministic!):\n",
    "    >>> estimate_average_slot_payout(1)\n",
    "    -1\n",
    "    >>> estimate_average_slot_payout(1)\n",
    "    0.5\n",
    "    \"\"\"\n",
    "    pass"
   ]
  },
  {
   "cell_type": "markdown",
   "id": "dbeaaa0a",
   "metadata": {
    "papermill": {
     "duration": 0.00667,
     "end_time": "2023-08-17T18:24:58.058027",
     "exception": false,
     "start_time": "2023-08-17T18:24:58.051357",
     "status": "completed"
    },
    "tags": []
   },
   "source": [
    "When you think you know the expected value per spin, run the code cell below to view the solution and get credit for answering the question."
   ]
  },
  {
   "cell_type": "code",
   "execution_count": 12,
   "id": "03698844",
   "metadata": {
    "execution": {
     "iopub.execute_input": "2023-08-17T18:24:58.074265Z",
     "iopub.status.busy": "2023-08-17T18:24:58.073641Z",
     "iopub.status.idle": "2023-08-17T18:24:58.081611Z",
     "shell.execute_reply": "2023-08-17T18:24:58.080013Z"
    },
    "papermill": {
     "duration": 0.019755,
     "end_time": "2023-08-17T18:24:58.084624",
     "exception": false,
     "start_time": "2023-08-17T18:24:58.064869",
     "status": "completed"
    },
    "tags": []
   },
   "outputs": [
    {
     "data": {
      "application/javascript": [
       "parent.postMessage({\"jupyterEvent\": \"custom.exercise_interaction\", \"data\": {\"interactionType\": 3, \"questionType\": 4, \"questionId\": \"4_ExpectedSlotsPayout\", \"learnToolsVersion\": \"0.3.4\", \"valueTowardsCompletion\": 0.0, \"failureMessage\": \"\", \"exceptionClass\": \"\", \"trace\": \"\", \"outcomeType\": 4}}, \"*\")"
      ],
      "text/plain": [
       "<IPython.core.display.Javascript object>"
      ]
     },
     "metadata": {},
     "output_type": "display_data"
    },
    {
     "data": {
      "text/markdown": [
       "<span style=\"color:#33cc99\">Solution:</span> \n",
       "    \n",
       "The exact expected value of one pull of the slot machine is 0.025 - i.e. a little more than 2 cents.  See?  Not every game in the Python Challenge Casino is rigged against the player!\n",
       "\n",
       "In order to get this answer, you'll need to implement the `estimate_average_slot_payout(n_runs)` function to simulate pulling the slot machine `n_runs` times.  It should return the payout averaged over those `n_runs`.\n",
       "\n",
       "Then, once the function is defined, in order to estimate the average slot payout, we need only call the function.\n",
       "\n",
       "Because of the high variance of the outcome (there are some very rare high payout results that significantly affect the average) you might need to run your function with a very high value of `n_runs` to get a stable answer close to the true expectation.  For instance, you might use a value for `n_runs` of 1000000.\n",
       "\n",
       "Here's an example for how the function could look:\n",
       "```python\n",
       "def estimate_average_slot_payout(n_runs):\n",
       "    # Play slot machine n_runs times, calculate payout of each\n",
       "    payouts = [play_slot_machine()-1 for i in range(n_runs)]\n",
       "    # Calculate the average value\n",
       "    avg_payout = sum(payouts) / n_runs\n",
       "    return avg_payout\n",
       "    \n",
       "estimate_average_slot_payout(10000000)\n",
       "\n",
       "```\n",
       "\n",
       "This should return an answer close to 0.025!\n",
       "            \n"
      ],
      "text/plain": [
       "Solution: \n",
       "    \n",
       "The exact expected value of one pull of the slot machine is 0.025 - i.e. a little more than 2 cents.  See?  Not every game in the Python Challenge Casino is rigged against the player!\n",
       "\n",
       "In order to get this answer, you'll need to implement the `estimate_average_slot_payout(n_runs)` function to simulate pulling the slot machine `n_runs` times.  It should return the payout averaged over those `n_runs`.\n",
       "\n",
       "Then, once the function is defined, in order to estimate the average slot payout, we need only call the function.\n",
       "\n",
       "Because of the high variance of the outcome (there are some very rare high payout results that significantly affect the average) you might need to run your function with a very high value of `n_runs` to get a stable answer close to the true expectation.  For instance, you might use a value for `n_runs` of 1000000.\n",
       "\n",
       "Here's an example for how the function could look:\n",
       "```python\n",
       "def estimate_average_slot_payout(n_runs):\n",
       "    # Play slot machine n_runs times, calculate payout of each\n",
       "    payouts = [play_slot_machine()-1 for i in range(n_runs)]\n",
       "    # Calculate the average value\n",
       "    avg_payout = sum(payouts) / n_runs\n",
       "    return avg_payout\n",
       "    \n",
       "estimate_average_slot_payout(10000000)\n",
       "\n",
       "```\n",
       "\n",
       "This should return an answer close to 0.025!\n",
       "            "
      ]
     },
     "metadata": {},
     "output_type": "display_data"
    }
   ],
   "source": [
    "# Check your answer (Run this code cell to receive credit!)\n",
    "q4.solution()"
   ]
  },
  {
   "cell_type": "markdown",
   "id": "67542ce7",
   "metadata": {
    "papermill": {
     "duration": 0.007413,
     "end_time": "2023-08-17T18:24:58.099625",
     "exception": false,
     "start_time": "2023-08-17T18:24:58.092212",
     "status": "completed"
    },
    "tags": []
   },
   "source": [
    "# Keep Going\n",
    "\n",
    "Many programmers report that dictionaries are their favorite data structure. You'll get to **[learn about them](https://www.kaggle.com/colinmorris/strings-and-dictionaries)** (as well as strings) in the next lesson."
   ]
  },
  {
   "cell_type": "markdown",
   "id": "ab4b3654",
   "metadata": {
    "papermill": {
     "duration": 0.007857,
     "end_time": "2023-08-17T18:24:58.115447",
     "exception": false,
     "start_time": "2023-08-17T18:24:58.107590",
     "status": "completed"
    },
    "tags": []
   },
   "source": [
    "---\n",
    "\n",
    "\n",
    "\n",
    "\n",
    "*Have questions or comments? Visit the [course discussion forum](https://www.kaggle.com/learn/python/discussion) to chat with other learners.*"
   ]
  }
 ],
 "metadata": {
  "kernelspec": {
   "display_name": "Python 3",
   "language": "python",
   "name": "python3"
  },
  "language_info": {
   "codemirror_mode": {
    "name": "ipython",
    "version": 3
   },
   "file_extension": ".py",
   "mimetype": "text/x-python",
   "name": "python",
   "nbconvert_exporter": "python",
   "pygments_lexer": "ipython3",
   "version": "3.10.12"
  },
  "papermill": {
   "default_parameters": {},
   "duration": 11.637738,
   "end_time": "2023-08-17T18:24:59.147422",
   "environment_variables": {},
   "exception": null,
   "input_path": "__notebook__.ipynb",
   "output_path": "__notebook__.ipynb",
   "parameters": {},
   "start_time": "2023-08-17T18:24:47.509684",
   "version": "2.4.0"
  }
 },
 "nbformat": 4,
 "nbformat_minor": 5
}
