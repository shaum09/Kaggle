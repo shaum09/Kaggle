{
 "cells": [
  {
   "cell_type": "markdown",
   "id": "c94ece2d",
   "metadata": {
    "papermill": {
     "duration": 0.00674,
     "end_time": "2023-08-16T18:43:30.353773",
     "exception": false,
     "start_time": "2023-08-16T18:43:30.347033",
     "status": "completed"
    },
    "tags": []
   },
   "source": [
    "**This notebook is an exercise in the [Python](https://www.kaggle.com/learn/python) course.  You can reference the tutorial at [this link](https://www.kaggle.com/colinmorris/lists).**\n",
    "\n",
    "---\n"
   ]
  },
  {
   "cell_type": "markdown",
   "id": "3d565f8b",
   "metadata": {
    "papermill": {
     "duration": 0.005968,
     "end_time": "2023-08-16T18:43:30.366180",
     "exception": false,
     "start_time": "2023-08-16T18:43:30.360212",
     "status": "completed"
    },
    "tags": []
   },
   "source": [
    "Things get more interesting with lists. You'll apply your new knowledge to solve the questions below. Remember to run the following cell first."
   ]
  },
  {
   "cell_type": "code",
   "execution_count": 1,
   "id": "58fd5d85",
   "metadata": {
    "execution": {
     "iopub.execute_input": "2023-08-16T18:43:30.381038Z",
     "iopub.status.busy": "2023-08-16T18:43:30.380045Z",
     "iopub.status.idle": "2023-08-16T18:43:30.427380Z",
     "shell.execute_reply": "2023-08-16T18:43:30.426606Z"
    },
    "papermill": {
     "duration": 0.057139,
     "end_time": "2023-08-16T18:43:30.429810",
     "exception": false,
     "start_time": "2023-08-16T18:43:30.372671",
     "status": "completed"
    },
    "tags": []
   },
   "outputs": [
    {
     "name": "stdout",
     "output_type": "stream",
     "text": [
      "Setup complete.\n"
     ]
    }
   ],
   "source": [
    "from learntools.core import binder; binder.bind(globals())\n",
    "from learntools.python.ex4 import *\n",
    "print('Setup complete.')"
   ]
  },
  {
   "cell_type": "markdown",
   "id": "e551af3f",
   "metadata": {
    "papermill": {
     "duration": 0.005962,
     "end_time": "2023-08-16T18:43:30.442088",
     "exception": false,
     "start_time": "2023-08-16T18:43:30.436126",
     "status": "completed"
    },
    "tags": []
   },
   "source": [
    "# 1.\n",
    "\n",
    "Complete the function below according to its docstring."
   ]
  },
  {
   "cell_type": "code",
   "execution_count": 2,
   "id": "3549cffc",
   "metadata": {
    "execution": {
     "iopub.execute_input": "2023-08-16T18:43:30.456671Z",
     "iopub.status.busy": "2023-08-16T18:43:30.455973Z",
     "iopub.status.idle": "2023-08-16T18:43:30.466218Z",
     "shell.execute_reply": "2023-08-16T18:43:30.465474Z"
    },
    "papermill": {
     "duration": 0.019951,
     "end_time": "2023-08-16T18:43:30.468306",
     "exception": false,
     "start_time": "2023-08-16T18:43:30.448355",
     "status": "completed"
    },
    "tags": []
   },
   "outputs": [
    {
     "data": {
      "application/javascript": [
       "parent.postMessage({\"jupyterEvent\": \"custom.exercise_interaction\", \"data\": {\"outcomeType\": 1, \"valueTowardsCompletion\": 0.2, \"interactionType\": 1, \"questionType\": 2, \"questionId\": \"1_SelectSecondItem\", \"learnToolsVersion\": \"0.3.4\", \"failureMessage\": \"\", \"exceptionClass\": \"\", \"trace\": \"\"}}, \"*\")"
      ],
      "text/plain": [
       "<IPython.core.display.Javascript object>"
      ]
     },
     "metadata": {},
     "output_type": "display_data"
    },
    {
     "data": {
      "text/markdown": [
       "<span style=\"color:#33cc33\">Correct</span>"
      ],
      "text/plain": [
       "Correct"
      ]
     },
     "metadata": {},
     "output_type": "display_data"
    }
   ],
   "source": [
    "def select_second(L):\n",
    "    \"\"\"Return the second element of the given list. If the list has no second\n",
    "    element, return None.\n",
    "    \"\"\"\n",
    "    if len(L) < 2:\n",
    "        return None\n",
    "    return L[1]\n",
    "\n",
    "# Check your answer\n",
    "q1.check()"
   ]
  },
  {
   "cell_type": "code",
   "execution_count": 3,
   "id": "f64163dd",
   "metadata": {
    "execution": {
     "iopub.execute_input": "2023-08-16T18:43:30.484410Z",
     "iopub.status.busy": "2023-08-16T18:43:30.483590Z",
     "iopub.status.idle": "2023-08-16T18:43:30.488263Z",
     "shell.execute_reply": "2023-08-16T18:43:30.487166Z"
    },
    "papermill": {
     "duration": 0.015706,
     "end_time": "2023-08-16T18:43:30.490718",
     "exception": false,
     "start_time": "2023-08-16T18:43:30.475012",
     "status": "completed"
    },
    "tags": []
   },
   "outputs": [],
   "source": [
    "#q1.hint()\n",
    "#q1.solution()"
   ]
  },
  {
   "cell_type": "markdown",
   "id": "2ea6a9cd",
   "metadata": {
    "papermill": {
     "duration": 0.006709,
     "end_time": "2023-08-16T18:43:30.504525",
     "exception": false,
     "start_time": "2023-08-16T18:43:30.497816",
     "status": "completed"
    },
    "tags": []
   },
   "source": [
    "# 2.\n",
    "\n",
    "You are analyzing sports teams.  Members of each team are stored in a list. The Coach is the first name in the list, the captain is the second name in the list, and other players are listed after that. \n",
    "These lists are stored in another list, which starts with the best team and proceeds through the list to the worst team last.  Complete the function below to select the **captain** of the worst team."
   ]
  },
  {
   "cell_type": "code",
   "execution_count": 4,
   "id": "b09df4a4",
   "metadata": {
    "execution": {
     "iopub.execute_input": "2023-08-16T18:43:30.520235Z",
     "iopub.status.busy": "2023-08-16T18:43:30.519588Z",
     "iopub.status.idle": "2023-08-16T18:43:30.529311Z",
     "shell.execute_reply": "2023-08-16T18:43:30.528320Z"
    },
    "papermill": {
     "duration": 0.020364,
     "end_time": "2023-08-16T18:43:30.531604",
     "exception": false,
     "start_time": "2023-08-16T18:43:30.511240",
     "status": "completed"
    },
    "tags": []
   },
   "outputs": [
    {
     "data": {
      "application/javascript": [
       "parent.postMessage({\"jupyterEvent\": \"custom.exercise_interaction\", \"data\": {\"outcomeType\": 1, \"valueTowardsCompletion\": 0.2, \"interactionType\": 1, \"questionType\": 2, \"questionId\": \"2_LosingTeamCaptain\", \"learnToolsVersion\": \"0.3.4\", \"failureMessage\": \"\", \"exceptionClass\": \"\", \"trace\": \"\"}}, \"*\")"
      ],
      "text/plain": [
       "<IPython.core.display.Javascript object>"
      ]
     },
     "metadata": {},
     "output_type": "display_data"
    },
    {
     "data": {
      "text/markdown": [
       "<span style=\"color:#33cc33\">Correct</span>"
      ],
      "text/plain": [
       "Correct"
      ]
     },
     "metadata": {},
     "output_type": "display_data"
    }
   ],
   "source": [
    "def losing_team_captain(teams):\n",
    "    \"\"\"Given a list of teams, where each team is a list of names, return the 2nd player (captain)\n",
    "    from the last listed team\n",
    "    \"\"\"\n",
    "    pass\n",
    "    return teams[-1][1]\n",
    "\n",
    "# Check your answer\n",
    "q2.check()"
   ]
  },
  {
   "cell_type": "code",
   "execution_count": 5,
   "id": "ad7bfcbb",
   "metadata": {
    "execution": {
     "iopub.execute_input": "2023-08-16T18:43:30.548047Z",
     "iopub.status.busy": "2023-08-16T18:43:30.547022Z",
     "iopub.status.idle": "2023-08-16T18:43:30.557955Z",
     "shell.execute_reply": "2023-08-16T18:43:30.557010Z"
    },
    "papermill": {
     "duration": 0.021385,
     "end_time": "2023-08-16T18:43:30.560132",
     "exception": false,
     "start_time": "2023-08-16T18:43:30.538747",
     "status": "completed"
    },
    "tags": []
   },
   "outputs": [
    {
     "data": {
      "application/javascript": [
       "parent.postMessage({\"jupyterEvent\": \"custom.exercise_interaction\", \"data\": {\"interactionType\": 2, \"questionType\": 2, \"questionId\": \"2_LosingTeamCaptain\", \"learnToolsVersion\": \"0.3.4\", \"valueTowardsCompletion\": 0.0, \"failureMessage\": \"\", \"exceptionClass\": \"\", \"trace\": \"\", \"outcomeType\": 4}}, \"*\")"
      ],
      "text/plain": [
       "<IPython.core.display.Javascript object>"
      ]
     },
     "metadata": {},
     "output_type": "display_data"
    },
    {
     "data": {
      "text/markdown": [
       "<span style=\"color:#3366cc\">Hint:</span> The last item in a list `L` can be selected with `L[-1]`. The first item in the first sublist would be selected as `L[0][0]`"
      ],
      "text/plain": [
       "Hint: The last item in a list `L` can be selected with `L[-1]`. The first item in the first sublist would be selected as `L[0][0]`"
      ]
     },
     "metadata": {},
     "output_type": "display_data"
    },
    {
     "data": {
      "application/javascript": [
       "parent.postMessage({\"jupyterEvent\": \"custom.exercise_interaction\", \"data\": {\"interactionType\": 3, \"questionType\": 2, \"questionId\": \"2_LosingTeamCaptain\", \"learnToolsVersion\": \"0.3.4\", \"valueTowardsCompletion\": 0.0, \"failureMessage\": \"\", \"exceptionClass\": \"\", \"trace\": \"\", \"outcomeType\": 4}}, \"*\")"
      ],
      "text/plain": [
       "<IPython.core.display.Javascript object>"
      ]
     },
     "metadata": {},
     "output_type": "display_data"
    },
    {
     "data": {
      "text/markdown": [
       "<span style=\"color:#33cc99\">Solution:</span> \n",
       "```python\n",
       "def losing_team_captain(teams):\n",
       "    return teams[-1][1]\n",
       "```"
      ],
      "text/plain": [
       "Solution: \n",
       "```python\n",
       "def losing_team_captain(teams):\n",
       "    return teams[-1][1]\n",
       "```"
      ]
     },
     "metadata": {},
     "output_type": "display_data"
    }
   ],
   "source": [
    "q2.hint()\n",
    "q2.solution()"
   ]
  },
  {
   "cell_type": "markdown",
   "id": "ba8195b6",
   "metadata": {
    "papermill": {
     "duration": 0.00751,
     "end_time": "2023-08-16T18:43:30.576592",
     "exception": false,
     "start_time": "2023-08-16T18:43:30.569082",
     "status": "completed"
    },
    "tags": []
   },
   "source": [
    "# 3.\n",
    "\n",
    "The next iteration of Mario Kart will feature an extra-infuriating new item, the *Purple Shell*. When used, it warps the last place racer into first place and the first place racer into last place. Complete the function below to implement the Purple Shell's effect."
   ]
  },
  {
   "cell_type": "code",
   "execution_count": 6,
   "id": "dc57df46",
   "metadata": {
    "execution": {
     "iopub.execute_input": "2023-08-16T18:43:30.594229Z",
     "iopub.status.busy": "2023-08-16T18:43:30.593464Z",
     "iopub.status.idle": "2023-08-16T18:43:30.603318Z",
     "shell.execute_reply": "2023-08-16T18:43:30.602125Z"
    },
    "papermill": {
     "duration": 0.021418,
     "end_time": "2023-08-16T18:43:30.605628",
     "exception": false,
     "start_time": "2023-08-16T18:43:30.584210",
     "status": "completed"
    },
    "tags": []
   },
   "outputs": [
    {
     "data": {
      "application/javascript": [
       "parent.postMessage({\"jupyterEvent\": \"custom.exercise_interaction\", \"data\": {\"outcomeType\": 1, \"valueTowardsCompletion\": 0.2, \"interactionType\": 1, \"questionType\": 2, \"questionId\": \"3_PurpleShell\", \"learnToolsVersion\": \"0.3.4\", \"failureMessage\": \"\", \"exceptionClass\": \"\", \"trace\": \"\"}}, \"*\")"
      ],
      "text/plain": [
       "<IPython.core.display.Javascript object>"
      ]
     },
     "metadata": {},
     "output_type": "display_data"
    },
    {
     "data": {
      "text/markdown": [
       "<span style=\"color:#33cc33\">Correct</span>"
      ],
      "text/plain": [
       "Correct"
      ]
     },
     "metadata": {},
     "output_type": "display_data"
    }
   ],
   "source": [
    "def purple_shell(racers):\n",
    "    \"\"\"Given a list of racers, set the first place racer (at the front of the list) to last\n",
    "    place and vice versa.\n",
    "    \n",
    "    >>> r = [\"Mario\", \"Bowser\", \"Luigi\"]\n",
    "    >>> purple_shell(r)\n",
    "    >>> r\n",
    "    [\"Luigi\", \"Bowser\", \"Mario\"]\n",
    "    \"\"\"\n",
    "    temp = racers[0]\n",
    "    racers[0] = racers[-1]\n",
    "    racers[-1] = temp\n",
    "\n",
    "# Check your answer\n",
    "q3.check()"
   ]
  },
  {
   "cell_type": "code",
   "execution_count": 7,
   "id": "07a22559",
   "metadata": {
    "execution": {
     "iopub.execute_input": "2023-08-16T18:43:30.623632Z",
     "iopub.status.busy": "2023-08-16T18:43:30.623226Z",
     "iopub.status.idle": "2023-08-16T18:43:30.636066Z",
     "shell.execute_reply": "2023-08-16T18:43:30.634944Z"
    },
    "papermill": {
     "duration": 0.02464,
     "end_time": "2023-08-16T18:43:30.638361",
     "exception": false,
     "start_time": "2023-08-16T18:43:30.613721",
     "status": "completed"
    },
    "tags": []
   },
   "outputs": [
    {
     "data": {
      "application/javascript": [
       "parent.postMessage({\"jupyterEvent\": \"custom.exercise_interaction\", \"data\": {\"interactionType\": 2, \"questionType\": 2, \"questionId\": \"3_PurpleShell\", \"learnToolsVersion\": \"0.3.4\", \"valueTowardsCompletion\": 0.0, \"failureMessage\": \"\", \"exceptionClass\": \"\", \"trace\": \"\", \"outcomeType\": 4}}, \"*\")"
      ],
      "text/plain": [
       "<IPython.core.display.Javascript object>"
      ]
     },
     "metadata": {},
     "output_type": "display_data"
    },
    {
     "data": {
      "text/markdown": [
       "<span style=\"color:#3366cc\">Hint:</span> Your function should change the list it receives, but not return anything\n",
       "\n",
       "To swap the list elements, think back to the code you used in the very first exercise to swap two variables."
      ],
      "text/plain": [
       "Hint: Your function should change the list it receives, but not return anything\n",
       "\n",
       "To swap the list elements, think back to the code you used in the very first exercise to swap two variables."
      ]
     },
     "metadata": {},
     "output_type": "display_data"
    },
    {
     "data": {
      "application/javascript": [
       "parent.postMessage({\"jupyterEvent\": \"custom.exercise_interaction\", \"data\": {\"interactionType\": 3, \"questionType\": 2, \"questionId\": \"3_PurpleShell\", \"learnToolsVersion\": \"0.3.4\", \"valueTowardsCompletion\": 0.0, \"failureMessage\": \"\", \"exceptionClass\": \"\", \"trace\": \"\", \"outcomeType\": 4}}, \"*\")"
      ],
      "text/plain": [
       "<IPython.core.display.Javascript object>"
      ]
     },
     "metadata": {},
     "output_type": "display_data"
    },
    {
     "data": {
      "text/markdown": [
       "<span style=\"color:#33cc99\">Solution:</span> \n",
       "```python\n",
       "def purple_shell(racers):\n",
       "    # One slick way to do the swap is x[0], x[-1] = x[-1], x[0].\n",
       "    temp = racers[0]\n",
       "    racers[0] = racers[-1]\n",
       "    racers[-1] = temp\n",
       "```"
      ],
      "text/plain": [
       "Solution: \n",
       "```python\n",
       "def purple_shell(racers):\n",
       "    # One slick way to do the swap is x[0], x[-1] = x[-1], x[0].\n",
       "    temp = racers[0]\n",
       "    racers[0] = racers[-1]\n",
       "    racers[-1] = temp\n",
       "```"
      ]
     },
     "metadata": {},
     "output_type": "display_data"
    }
   ],
   "source": [
    "q3.hint()\n",
    "q3.solution()"
   ]
  },
  {
   "cell_type": "markdown",
   "id": "f81b5758",
   "metadata": {
    "papermill": {
     "duration": 0.008541,
     "end_time": "2023-08-16T18:43:30.655706",
     "exception": false,
     "start_time": "2023-08-16T18:43:30.647165",
     "status": "completed"
    },
    "tags": []
   },
   "source": [
    "# 4.\n",
    "\n",
    "What are the lengths of the following lists? Fill in the variable `lengths` with your predictions. (Try to make a prediction for each list *without* just calling `len()` on it.)"
   ]
  },
  {
   "cell_type": "code",
   "execution_count": 8,
   "id": "19ba2930",
   "metadata": {
    "execution": {
     "iopub.execute_input": "2023-08-16T18:43:30.674905Z",
     "iopub.status.busy": "2023-08-16T18:43:30.674523Z",
     "iopub.status.idle": "2023-08-16T18:43:30.684871Z",
     "shell.execute_reply": "2023-08-16T18:43:30.683775Z"
    },
    "papermill": {
     "duration": 0.022823,
     "end_time": "2023-08-16T18:43:30.687295",
     "exception": false,
     "start_time": "2023-08-16T18:43:30.664472",
     "status": "completed"
    },
    "tags": []
   },
   "outputs": [
    {
     "data": {
      "application/javascript": [
       "parent.postMessage({\"jupyterEvent\": \"custom.exercise_interaction\", \"data\": {\"outcomeType\": 4, \"interactionType\": 1, \"questionType\": 1, \"questionId\": \"4_UnderstandLen\", \"learnToolsVersion\": \"0.3.4\", \"valueTowardsCompletion\": 0.0, \"failureMessage\": \"\", \"exceptionClass\": \"\", \"trace\": \"\"}}, \"*\")"
      ],
      "text/plain": [
       "<IPython.core.display.Javascript object>"
      ]
     },
     "metadata": {},
     "output_type": "display_data"
    },
    {
     "data": {
      "text/markdown": [
       "<span style=\"color:#ccaa33\">Check:</span> When you've updated the starter code, `check()` will tell you whether your code is correct. You need to update the code that creates variable `lengths`"
      ],
      "text/plain": [
       "Check: When you've updated the starter code, `check()` will tell you whether your code is correct. You need to update the code that creates variable `lengths`"
      ]
     },
     "metadata": {},
     "output_type": "display_data"
    }
   ],
   "source": [
    "a = [1, 2, 3]\n",
    "b = [1, [2, 3]]\n",
    "c = []\n",
    "d = [1, 2, 3][1:]\n",
    "\n",
    "# Put your predictions in the list below. Lengths should contain 4 numbers, the\n",
    "# first being the length of a, the second being the length of b and so on.\n",
    "lengths = []\n",
    "\n",
    "# Check your answer\n",
    "q4.check()"
   ]
  },
  {
   "cell_type": "code",
   "execution_count": 9,
   "id": "ff54a868",
   "metadata": {
    "execution": {
     "iopub.execute_input": "2023-08-16T18:43:30.708423Z",
     "iopub.status.busy": "2023-08-16T18:43:30.707142Z",
     "iopub.status.idle": "2023-08-16T18:43:30.716318Z",
     "shell.execute_reply": "2023-08-16T18:43:30.715076Z"
    },
    "papermill": {
     "duration": 0.022159,
     "end_time": "2023-08-16T18:43:30.718633",
     "exception": false,
     "start_time": "2023-08-16T18:43:30.696474",
     "status": "completed"
    },
    "tags": []
   },
   "outputs": [
    {
     "data": {
      "application/javascript": [
       "parent.postMessage({\"jupyterEvent\": \"custom.exercise_interaction\", \"data\": {\"interactionType\": 3, \"questionType\": 1, \"questionId\": \"4_UnderstandLen\", \"learnToolsVersion\": \"0.3.4\", \"valueTowardsCompletion\": 0.0, \"failureMessage\": \"\", \"exceptionClass\": \"\", \"trace\": \"\", \"outcomeType\": 4}}, \"*\")"
      ],
      "text/plain": [
       "<IPython.core.display.Javascript object>"
      ]
     },
     "metadata": {},
     "output_type": "display_data"
    },
    {
     "data": {
      "text/markdown": [
       "<span style=\"color:#33cc99\">Solution:</span> \n",
       "- a: There are three items in this list. Nothing tricky yet.\n",
       "- b: The list `[2, 3]` counts as a single item. It has one item before it. So we have 2 items in the list\n",
       "- c: The empty list has 0 items\n",
       "- d: The expression is the same as the list `[2, 3]`, which has length 2."
      ],
      "text/plain": [
       "Solution: \n",
       "- a: There are three items in this list. Nothing tricky yet.\n",
       "- b: The list `[2, 3]` counts as a single item. It has one item before it. So we have 2 items in the list\n",
       "- c: The empty list has 0 items\n",
       "- d: The expression is the same as the list `[2, 3]`, which has length 2."
      ]
     },
     "metadata": {},
     "output_type": "display_data"
    }
   ],
   "source": [
    "# line below provides some explanation\n",
    "q4.solution()"
   ]
  },
  {
   "cell_type": "markdown",
   "id": "e9f30580",
   "metadata": {
    "papermill": {
     "duration": 0.009078,
     "end_time": "2023-08-16T18:43:30.737082",
     "exception": false,
     "start_time": "2023-08-16T18:43:30.728004",
     "status": "completed"
    },
    "tags": []
   },
   "source": [
    "# 5. <span title=\"A bit spicy\" style=\"color: darkgreen \">🌶️</span>\n",
    "\n",
    "We're using lists to record people who attended our party and what order they arrived in. For example, the following list represents a party with 7 guests, in which Adela showed up first and Ford was the last to arrive:\n",
    "\n",
    "    party_attendees = ['Adela', 'Fleda', 'Owen', 'May', 'Mona', 'Gilbert', 'Ford']\n",
    "\n",
    "A guest is considered 'fashionably late' if they arrived after at least half of the party's guests. However, they must not be the very last guest (that's taking it too far). In the above example, Mona and Gilbert are the only guests who were fashionably late.\n",
    "\n",
    "Complete the function below which takes a list of party attendees as well as a person, and tells us whether that person is fashionably late."
   ]
  },
  {
   "cell_type": "code",
   "execution_count": 10,
   "id": "6cd300f5",
   "metadata": {
    "execution": {
     "iopub.execute_input": "2023-08-16T18:43:30.757683Z",
     "iopub.status.busy": "2023-08-16T18:43:30.756998Z",
     "iopub.status.idle": "2023-08-16T18:43:30.766902Z",
     "shell.execute_reply": "2023-08-16T18:43:30.765930Z"
    },
    "papermill": {
     "duration": 0.022888,
     "end_time": "2023-08-16T18:43:30.769125",
     "exception": false,
     "start_time": "2023-08-16T18:43:30.746237",
     "status": "completed"
    },
    "tags": []
   },
   "outputs": [
    {
     "data": {
      "application/javascript": [
       "parent.postMessage({\"jupyterEvent\": \"custom.exercise_interaction\", \"data\": {\"outcomeType\": 4, \"interactionType\": 1, \"questionType\": 2, \"questionId\": \"5_FashionablyLate\", \"learnToolsVersion\": \"0.3.4\", \"valueTowardsCompletion\": 0.0, \"failureMessage\": \"\", \"exceptionClass\": \"\", \"trace\": \"\"}}, \"*\")"
      ],
      "text/plain": [
       "<IPython.core.display.Javascript object>"
      ]
     },
     "metadata": {},
     "output_type": "display_data"
    },
    {
     "data": {
      "text/markdown": [
       "<span style=\"color:#ccaa33\">Check:</span> When you've updated the starter code, `check()` will tell you whether your code is correct. "
      ],
      "text/plain": [
       "Check: When you've updated the starter code, `check()` will tell you whether your code is correct. "
      ]
     },
     "metadata": {},
     "output_type": "display_data"
    }
   ],
   "source": [
    "def fashionably_late(arrivals, name):\n",
    "    \"\"\"Given an ordered list of arrivals to the party and a name, return whether the guest with that\n",
    "    name was fashionably late.\n",
    "    \"\"\"\n",
    "    pass\n",
    "\n",
    "# Check your answer\n",
    "q5.check()"
   ]
  },
  {
   "cell_type": "code",
   "execution_count": 11,
   "id": "74eb0099",
   "metadata": {
    "collapsed": true,
    "execution": {
     "iopub.execute_input": "2023-08-16T18:43:30.790544Z",
     "iopub.status.busy": "2023-08-16T18:43:30.790132Z",
     "iopub.status.idle": "2023-08-16T18:43:30.794912Z",
     "shell.execute_reply": "2023-08-16T18:43:30.793820Z"
    },
    "jupyter": {
     "outputs_hidden": true
    },
    "papermill": {
     "duration": 0.018479,
     "end_time": "2023-08-16T18:43:30.797396",
     "exception": false,
     "start_time": "2023-08-16T18:43:30.778917",
     "status": "completed"
    },
    "tags": []
   },
   "outputs": [],
   "source": [
    "#q5.hint()\n",
    "#q5.solution()"
   ]
  },
  {
   "cell_type": "markdown",
   "id": "4c4f4ad8",
   "metadata": {
    "papermill": {
     "duration": 0.009661,
     "end_time": "2023-08-16T18:43:30.817170",
     "exception": false,
     "start_time": "2023-08-16T18:43:30.807509",
     "status": "completed"
    },
    "tags": []
   },
   "source": [
    "# Keep Going\n",
    "\n",
    "That's it for lists and tuples! Now you have the baseline knowledge to **[learn about loops](https://www.kaggle.com/colinmorris/loops-and-list-comprehensions)**, which is where lists and tuples get really interesting. "
   ]
  },
  {
   "cell_type": "markdown",
   "id": "f80e3e15",
   "metadata": {
    "papermill": {
     "duration": 0.00946,
     "end_time": "2023-08-16T18:43:30.836523",
     "exception": false,
     "start_time": "2023-08-16T18:43:30.827063",
     "status": "completed"
    },
    "tags": []
   },
   "source": [
    "---\n",
    "\n",
    "\n",
    "\n",
    "\n",
    "*Have questions or comments? Visit the [course discussion forum](https://www.kaggle.com/learn/python/discussion) to chat with other learners.*"
   ]
  }
 ],
 "metadata": {
  "kernelspec": {
   "display_name": "Python 3",
   "language": "python",
   "name": "python3"
  },
  "language_info": {
   "codemirror_mode": {
    "name": "ipython",
    "version": 3
   },
   "file_extension": ".py",
   "mimetype": "text/x-python",
   "name": "python",
   "nbconvert_exporter": "python",
   "pygments_lexer": "ipython3",
   "version": "3.10.12"
  },
  "papermill": {
   "default_parameters": {},
   "duration": 12.474115,
   "end_time": "2023-08-16T18:43:31.768941",
   "environment_variables": {},
   "exception": null,
   "input_path": "__notebook__.ipynb",
   "output_path": "__notebook__.ipynb",
   "parameters": {},
   "start_time": "2023-08-16T18:43:19.294826",
   "version": "2.4.0"
  }
 },
 "nbformat": 4,
 "nbformat_minor": 5
}
