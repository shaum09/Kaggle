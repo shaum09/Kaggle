{
 "cells": [
  {
   "cell_type": "markdown",
   "id": "819ee886",
   "metadata": {
    "papermill": {
     "duration": 0.007287,
     "end_time": "2023-08-18T18:26:04.744763",
     "exception": false,
     "start_time": "2023-08-18T18:26:04.737476",
     "status": "completed"
    },
    "tags": []
   },
   "source": [
    "**This notebook is an exercise in the [Python](https://www.kaggle.com/learn/python) course.  You can reference the tutorial at [this link](https://www.kaggle.com/colinmorris/strings-and-dictionaries).**\n",
    "\n",
    "---\n"
   ]
  },
  {
   "cell_type": "markdown",
   "id": "faf900e4",
   "metadata": {
    "papermill": {
     "duration": 0.006187,
     "end_time": "2023-08-18T18:26:04.757664",
     "exception": false,
     "start_time": "2023-08-18T18:26:04.751477",
     "status": "completed"
    },
    "tags": []
   },
   "source": [
    "You are almost done with the course. Nice job!\n",
    "\n",
    "We have a couple more interesting problems for you before you go. \n",
    "\n",
    "As always, run the setup code below before working on the questions."
   ]
  },
  {
   "cell_type": "code",
   "execution_count": 1,
   "id": "6bd681f0",
   "metadata": {
    "execution": {
     "iopub.execute_input": "2023-08-18T18:26:04.774064Z",
     "iopub.status.busy": "2023-08-18T18:26:04.773072Z",
     "iopub.status.idle": "2023-08-18T18:26:04.834534Z",
     "shell.execute_reply": "2023-08-18T18:26:04.833390Z"
    },
    "papermill": {
     "duration": 0.07254,
     "end_time": "2023-08-18T18:26:04.837127",
     "exception": false,
     "start_time": "2023-08-18T18:26:04.764587",
     "status": "completed"
    },
    "tags": []
   },
   "outputs": [
    {
     "name": "stdout",
     "output_type": "stream",
     "text": [
      "Setup complete.\n"
     ]
    }
   ],
   "source": [
    "from learntools.core import binder; binder.bind(globals())\n",
    "from learntools.python.ex6 import *\n",
    "print('Setup complete.')"
   ]
  },
  {
   "cell_type": "markdown",
   "id": "6b0e41fd",
   "metadata": {
    "papermill": {
     "duration": 0.006437,
     "end_time": "2023-08-18T18:26:04.850374",
     "exception": false,
     "start_time": "2023-08-18T18:26:04.843937",
     "status": "completed"
    },
    "tags": []
   },
   "source": [
    "Let's start with a string lightning round to warm up. What are the lengths of the strings below?\n",
    "\n",
    "For each of the five strings below, predict what `len()` would return when passed that string. Use the variable `length` to record your answer, then run the cell to check whether you were right.  \n",
    "\n",
    "# 0a."
   ]
  },
  {
   "cell_type": "code",
   "execution_count": 2,
   "id": "13823d77",
   "metadata": {
    "execution": {
     "iopub.execute_input": "2023-08-18T18:26:04.865874Z",
     "iopub.status.busy": "2023-08-18T18:26:04.865115Z",
     "iopub.status.idle": "2023-08-18T18:26:04.875696Z",
     "shell.execute_reply": "2023-08-18T18:26:04.874610Z"
    },
    "papermill": {
     "duration": 0.020943,
     "end_time": "2023-08-18T18:26:04.877961",
     "exception": false,
     "start_time": "2023-08-18T18:26:04.857018",
     "status": "completed"
    },
    "tags": []
   },
   "outputs": [
    {
     "data": {
      "application/javascript": [
       "parent.postMessage({\"jupyterEvent\": \"custom.exercise_interaction\", \"data\": {\"outcomeType\": 4, \"interactionType\": 1, \"questionType\": 1, \"questionId\": \"0.1_ZA\", \"learnToolsVersion\": \"0.3.4\", \"valueTowardsCompletion\": 0.0, \"failureMessage\": \"\", \"exceptionClass\": \"\", \"trace\": \"\"}}, \"*\")"
      ],
      "text/plain": [
       "<IPython.core.display.Javascript object>"
      ]
     },
     "metadata": {},
     "output_type": "display_data"
    },
    {
     "data": {
      "text/markdown": [
       "<span style=\"color:#ccaa33\">Check:</span> When you've updated the starter code, `check()` will tell you whether your code is correct. You need to update the code that creates variable `length`"
      ],
      "text/plain": [
       "Check: When you've updated the starter code, `check()` will tell you whether your code is correct. You need to update the code that creates variable `length`"
      ]
     },
     "metadata": {},
     "output_type": "display_data"
    }
   ],
   "source": [
    "a = \"\"\n",
    "length = ____\n",
    "q0.a.check()"
   ]
  },
  {
   "cell_type": "markdown",
   "id": "a34bc5e7",
   "metadata": {
    "papermill": {
     "duration": 0.006653,
     "end_time": "2023-08-18T18:26:04.891699",
     "exception": false,
     "start_time": "2023-08-18T18:26:04.885046",
     "status": "completed"
    },
    "tags": []
   },
   "source": [
    "# 0b."
   ]
  },
  {
   "cell_type": "code",
   "execution_count": 3,
   "id": "710e5cc3",
   "metadata": {
    "execution": {
     "iopub.execute_input": "2023-08-18T18:26:04.907862Z",
     "iopub.status.busy": "2023-08-18T18:26:04.907195Z",
     "iopub.status.idle": "2023-08-18T18:26:04.916117Z",
     "shell.execute_reply": "2023-08-18T18:26:04.915140Z"
    },
    "papermill": {
     "duration": 0.019629,
     "end_time": "2023-08-18T18:26:04.918273",
     "exception": false,
     "start_time": "2023-08-18T18:26:04.898644",
     "status": "completed"
    },
    "tags": []
   },
   "outputs": [
    {
     "data": {
      "application/javascript": [
       "parent.postMessage({\"jupyterEvent\": \"custom.exercise_interaction\", \"data\": {\"outcomeType\": 4, \"interactionType\": 1, \"questionType\": 1, \"questionId\": \"0.2_ZB\", \"learnToolsVersion\": \"0.3.4\", \"valueTowardsCompletion\": 0.0, \"failureMessage\": \"\", \"exceptionClass\": \"\", \"trace\": \"\"}}, \"*\")"
      ],
      "text/plain": [
       "<IPython.core.display.Javascript object>"
      ]
     },
     "metadata": {},
     "output_type": "display_data"
    },
    {
     "data": {
      "text/markdown": [
       "<span style=\"color:#ccaa33\">Check:</span> When you've updated the starter code, `check()` will tell you whether your code is correct. You need to update the code that creates variable `length`"
      ],
      "text/plain": [
       "Check: When you've updated the starter code, `check()` will tell you whether your code is correct. You need to update the code that creates variable `length`"
      ]
     },
     "metadata": {},
     "output_type": "display_data"
    }
   ],
   "source": [
    "b = \"it's ok\"\n",
    "length = ____\n",
    "q0.b.check()"
   ]
  },
  {
   "cell_type": "markdown",
   "id": "cc80e39d",
   "metadata": {
    "papermill": {
     "duration": 0.007053,
     "end_time": "2023-08-18T18:26:04.932608",
     "exception": false,
     "start_time": "2023-08-18T18:26:04.925555",
     "status": "completed"
    },
    "tags": []
   },
   "source": [
    "# 0c."
   ]
  },
  {
   "cell_type": "code",
   "execution_count": 4,
   "id": "9a377c5e",
   "metadata": {
    "execution": {
     "iopub.execute_input": "2023-08-18T18:26:04.950998Z",
     "iopub.status.busy": "2023-08-18T18:26:04.950109Z",
     "iopub.status.idle": "2023-08-18T18:26:04.959314Z",
     "shell.execute_reply": "2023-08-18T18:26:04.958333Z"
    },
    "papermill": {
     "duration": 0.020414,
     "end_time": "2023-08-18T18:26:04.961581",
     "exception": false,
     "start_time": "2023-08-18T18:26:04.941167",
     "status": "completed"
    },
    "tags": []
   },
   "outputs": [
    {
     "data": {
      "application/javascript": [
       "parent.postMessage({\"jupyterEvent\": \"custom.exercise_interaction\", \"data\": {\"outcomeType\": 4, \"interactionType\": 1, \"questionType\": 1, \"questionId\": \"0.3_ZC\", \"learnToolsVersion\": \"0.3.4\", \"valueTowardsCompletion\": 0.0, \"failureMessage\": \"\", \"exceptionClass\": \"\", \"trace\": \"\"}}, \"*\")"
      ],
      "text/plain": [
       "<IPython.core.display.Javascript object>"
      ]
     },
     "metadata": {},
     "output_type": "display_data"
    },
    {
     "data": {
      "text/markdown": [
       "<span style=\"color:#ccaa33\">Check:</span> When you've updated the starter code, `check()` will tell you whether your code is correct. You need to update the code that creates variable `length`"
      ],
      "text/plain": [
       "Check: When you've updated the starter code, `check()` will tell you whether your code is correct. You need to update the code that creates variable `length`"
      ]
     },
     "metadata": {},
     "output_type": "display_data"
    }
   ],
   "source": [
    "c = 'it\\'s ok'\n",
    "length = ____\n",
    "q0.c.check()"
   ]
  },
  {
   "cell_type": "markdown",
   "id": "67c498e2",
   "metadata": {
    "papermill": {
     "duration": 0.007532,
     "end_time": "2023-08-18T18:26:04.976788",
     "exception": false,
     "start_time": "2023-08-18T18:26:04.969256",
     "status": "completed"
    },
    "tags": []
   },
   "source": [
    "# 0d."
   ]
  },
  {
   "cell_type": "code",
   "execution_count": 5,
   "id": "bb6844a2",
   "metadata": {
    "execution": {
     "iopub.execute_input": "2023-08-18T18:26:04.994223Z",
     "iopub.status.busy": "2023-08-18T18:26:04.993548Z",
     "iopub.status.idle": "2023-08-18T18:26:05.003728Z",
     "shell.execute_reply": "2023-08-18T18:26:05.002111Z"
    },
    "papermill": {
     "duration": 0.023583,
     "end_time": "2023-08-18T18:26:05.007941",
     "exception": false,
     "start_time": "2023-08-18T18:26:04.984358",
     "status": "completed"
    },
    "tags": []
   },
   "outputs": [
    {
     "data": {
      "application/javascript": [
       "parent.postMessage({\"jupyterEvent\": \"custom.exercise_interaction\", \"data\": {\"outcomeType\": 4, \"interactionType\": 1, \"questionType\": 1, \"questionId\": \"0.4_ZD\", \"learnToolsVersion\": \"0.3.4\", \"valueTowardsCompletion\": 0.0, \"failureMessage\": \"\", \"exceptionClass\": \"\", \"trace\": \"\"}}, \"*\")"
      ],
      "text/plain": [
       "<IPython.core.display.Javascript object>"
      ]
     },
     "metadata": {},
     "output_type": "display_data"
    },
    {
     "data": {
      "text/markdown": [
       "<span style=\"color:#ccaa33\">Check:</span> When you've updated the starter code, `check()` will tell you whether your code is correct. You need to update the code that creates variable `length`"
      ],
      "text/plain": [
       "Check: When you've updated the starter code, `check()` will tell you whether your code is correct. You need to update the code that creates variable `length`"
      ]
     },
     "metadata": {},
     "output_type": "display_data"
    }
   ],
   "source": [
    "d = \"\"\"hey\"\"\"\n",
    "length = ____\n",
    "q0.d.check()"
   ]
  },
  {
   "cell_type": "markdown",
   "id": "0401b95c",
   "metadata": {
    "papermill": {
     "duration": 0.00787,
     "end_time": "2023-08-18T18:26:05.024650",
     "exception": false,
     "start_time": "2023-08-18T18:26:05.016780",
     "status": "completed"
    },
    "tags": []
   },
   "source": [
    "# 0e."
   ]
  },
  {
   "cell_type": "code",
   "execution_count": 6,
   "id": "64f13c82",
   "metadata": {
    "execution": {
     "iopub.execute_input": "2023-08-18T18:26:05.044317Z",
     "iopub.status.busy": "2023-08-18T18:26:05.042882Z",
     "iopub.status.idle": "2023-08-18T18:26:05.053900Z",
     "shell.execute_reply": "2023-08-18T18:26:05.052468Z"
    },
    "papermill": {
     "duration": 0.023528,
     "end_time": "2023-08-18T18:26:05.056530",
     "exception": false,
     "start_time": "2023-08-18T18:26:05.033002",
     "status": "completed"
    },
    "tags": []
   },
   "outputs": [
    {
     "data": {
      "application/javascript": [
       "parent.postMessage({\"jupyterEvent\": \"custom.exercise_interaction\", \"data\": {\"outcomeType\": 4, \"interactionType\": 1, \"questionType\": 1, \"questionId\": \"0.5_ZE\", \"learnToolsVersion\": \"0.3.4\", \"valueTowardsCompletion\": 0.0, \"failureMessage\": \"\", \"exceptionClass\": \"\", \"trace\": \"\"}}, \"*\")"
      ],
      "text/plain": [
       "<IPython.core.display.Javascript object>"
      ]
     },
     "metadata": {},
     "output_type": "display_data"
    },
    {
     "data": {
      "text/markdown": [
       "<span style=\"color:#ccaa33\">Check:</span> When you've updated the starter code, `check()` will tell you whether your code is correct. You need to update the code that creates variable `length`"
      ],
      "text/plain": [
       "Check: When you've updated the starter code, `check()` will tell you whether your code is correct. You need to update the code that creates variable `length`"
      ]
     },
     "metadata": {},
     "output_type": "display_data"
    }
   ],
   "source": [
    "e = '\\n'\n",
    "length = ____\n",
    "q0.e.check()"
   ]
  },
  {
   "cell_type": "markdown",
   "id": "cea440f3",
   "metadata": {
    "papermill": {
     "duration": 0.010025,
     "end_time": "2023-08-18T18:26:05.075917",
     "exception": false,
     "start_time": "2023-08-18T18:26:05.065892",
     "status": "completed"
    },
    "tags": []
   },
   "source": [
    "# 1.\n",
    "\n",
    "There is a saying that \"Data scientists spend 80% of their time cleaning data, and 20% of their time complaining about cleaning data.\" Let's see if you can write a function to help clean US zip code data. Given a string, it should return whether or not that string represents a valid zip code. For our purposes, a valid zip code is any string consisting of exactly 5 digits.\n",
    "\n",
    "HINT: `str` has a method that will be useful here. Use `help(str)` to review a list of string methods."
   ]
  },
  {
   "cell_type": "code",
   "execution_count": 7,
   "id": "ecc1ac6a",
   "metadata": {
    "execution": {
     "iopub.execute_input": "2023-08-18T18:26:05.097362Z",
     "iopub.status.busy": "2023-08-18T18:26:05.096715Z",
     "iopub.status.idle": "2023-08-18T18:26:05.104992Z",
     "shell.execute_reply": "2023-08-18T18:26:05.103834Z"
    },
    "papermill": {
     "duration": 0.022469,
     "end_time": "2023-08-18T18:26:05.107546",
     "exception": false,
     "start_time": "2023-08-18T18:26:05.085077",
     "status": "completed"
    },
    "tags": []
   },
   "outputs": [
    {
     "data": {
      "application/javascript": [
       "parent.postMessage({\"jupyterEvent\": \"custom.exercise_interaction\", \"data\": {\"outcomeType\": 4, \"interactionType\": 1, \"questionType\": 2, \"questionId\": \"1_ZipValidator\", \"learnToolsVersion\": \"0.3.4\", \"valueTowardsCompletion\": 0.0, \"failureMessage\": \"\", \"exceptionClass\": \"\", \"trace\": \"\"}}, \"*\")"
      ],
      "text/plain": [
       "<IPython.core.display.Javascript object>"
      ]
     },
     "metadata": {},
     "output_type": "display_data"
    },
    {
     "data": {
      "text/markdown": [
       "<span style=\"color:#ccaa33\">Check:</span> When you've updated the starter code, `check()` will tell you whether your code is correct. "
      ],
      "text/plain": [
       "Check: When you've updated the starter code, `check()` will tell you whether your code is correct. "
      ]
     },
     "metadata": {},
     "output_type": "display_data"
    }
   ],
   "source": [
    "def is_valid_zip(zip_code):\n",
    "    \"\"\"Returns whether the input string is a valid (5 digit) zip code\n",
    "    \"\"\"\n",
    "    pass\n",
    "\n",
    "# Check your answer\n",
    "q1.check()"
   ]
  },
  {
   "cell_type": "code",
   "execution_count": 8,
   "id": "083a22c4",
   "metadata": {
    "execution": {
     "iopub.execute_input": "2023-08-18T18:26:05.129234Z",
     "iopub.status.busy": "2023-08-18T18:26:05.128743Z",
     "iopub.status.idle": "2023-08-18T18:26:05.133298Z",
     "shell.execute_reply": "2023-08-18T18:26:05.132227Z"
    },
    "papermill": {
     "duration": 0.018006,
     "end_time": "2023-08-18T18:26:05.135759",
     "exception": false,
     "start_time": "2023-08-18T18:26:05.117753",
     "status": "completed"
    },
    "tags": []
   },
   "outputs": [],
   "source": [
    "#q1.hint()\n",
    "#q1.solution()"
   ]
  },
  {
   "cell_type": "markdown",
   "id": "c46dc476",
   "metadata": {
    "papermill": {
     "duration": 0.008725,
     "end_time": "2023-08-18T18:26:05.153870",
     "exception": false,
     "start_time": "2023-08-18T18:26:05.145145",
     "status": "completed"
    },
    "tags": []
   },
   "source": [
    "# 2.\n",
    "\n",
    "A researcher has gathered thousands of news articles. But she wants to focus her attention on articles including a specific word. Complete the function below to help her filter her list of articles.\n",
    "\n",
    "Your function should meet the following criteria:\n",
    "\n",
    "- Do not include documents where the keyword string shows up only as a part of a larger word. For example, if she were looking for the keyword “closed”, you would not include the string “enclosed.” \n",
    "- She does not want you to distinguish upper case from lower case letters. So the phrase “Closed the case.” would be included when the keyword is “closed”\n",
    "- Do not let periods or commas affect what is matched. “It is closed.” would be included when the keyword is “closed”. But you can assume there are no other types of punctuation."
   ]
  },
  {
   "cell_type": "code",
   "execution_count": 9,
   "id": "32967730",
   "metadata": {
    "execution": {
     "iopub.execute_input": "2023-08-18T18:26:05.174276Z",
     "iopub.status.busy": "2023-08-18T18:26:05.173678Z",
     "iopub.status.idle": "2023-08-18T18:26:05.183184Z",
     "shell.execute_reply": "2023-08-18T18:26:05.182144Z"
    },
    "papermill": {
     "duration": 0.022785,
     "end_time": "2023-08-18T18:26:05.185838",
     "exception": false,
     "start_time": "2023-08-18T18:26:05.163053",
     "status": "completed"
    },
    "tags": []
   },
   "outputs": [
    {
     "data": {
      "application/javascript": [
       "parent.postMessage({\"jupyterEvent\": \"custom.exercise_interaction\", \"data\": {\"outcomeType\": 4, \"interactionType\": 1, \"questionType\": 2, \"questionId\": \"2_WordSearch\", \"learnToolsVersion\": \"0.3.4\", \"valueTowardsCompletion\": 0.0, \"failureMessage\": \"\", \"exceptionClass\": \"\", \"trace\": \"\"}}, \"*\")"
      ],
      "text/plain": [
       "<IPython.core.display.Javascript object>"
      ]
     },
     "metadata": {},
     "output_type": "display_data"
    },
    {
     "data": {
      "text/markdown": [
       "<span style=\"color:#ccaa33\">Check:</span> When you've updated the starter code, `check()` will tell you whether your code is correct. "
      ],
      "text/plain": [
       "Check: When you've updated the starter code, `check()` will tell you whether your code is correct. "
      ]
     },
     "metadata": {},
     "output_type": "display_data"
    }
   ],
   "source": [
    "def word_search(doc_list, keyword):\n",
    "    \"\"\"\n",
    "    Takes a list of documents (each document is a string) and a keyword. \n",
    "    Returns list of the index values into the original list for all documents \n",
    "    containing the keyword.\n",
    "\n",
    "    Example:\n",
    "    doc_list = [\"The Learn Python Challenge Casino.\", \"They bought a car\", \"Casinoville\"]\n",
    "    >>> word_search(doc_list, 'casino')\n",
    "    >>> [0]\n",
    "    \"\"\"\n",
    "    pass\n",
    "\n",
    "# Check your answer\n",
    "q2.check()"
   ]
  },
  {
   "cell_type": "code",
   "execution_count": 10,
   "id": "7ed24802",
   "metadata": {
    "execution": {
     "iopub.execute_input": "2023-08-18T18:26:05.207551Z",
     "iopub.status.busy": "2023-08-18T18:26:05.207125Z",
     "iopub.status.idle": "2023-08-18T18:26:05.212013Z",
     "shell.execute_reply": "2023-08-18T18:26:05.210654Z"
    },
    "papermill": {
     "duration": 0.018559,
     "end_time": "2023-08-18T18:26:05.214339",
     "exception": false,
     "start_time": "2023-08-18T18:26:05.195780",
     "status": "completed"
    },
    "tags": []
   },
   "outputs": [],
   "source": [
    "#q2.hint()\n",
    "#q2.solution()"
   ]
  },
  {
   "cell_type": "markdown",
   "id": "0110c3a7",
   "metadata": {
    "papermill": {
     "duration": 0.009586,
     "end_time": "2023-08-18T18:26:05.233937",
     "exception": false,
     "start_time": "2023-08-18T18:26:05.224351",
     "status": "completed"
    },
    "tags": []
   },
   "source": [
    "# 3.\n",
    "\n",
    "Now the researcher wants to supply multiple keywords to search for. Complete the function below to help her.\n",
    "\n",
    "(You're encouraged to use the `word_search` function you just wrote when implementing this function. Reusing code in this way makes your programs more robust and readable - and it saves typing!)"
   ]
  },
  {
   "cell_type": "code",
   "execution_count": 11,
   "id": "7fb2813a",
   "metadata": {
    "execution": {
     "iopub.execute_input": "2023-08-18T18:26:05.256231Z",
     "iopub.status.busy": "2023-08-18T18:26:05.255129Z",
     "iopub.status.idle": "2023-08-18T18:26:05.265031Z",
     "shell.execute_reply": "2023-08-18T18:26:05.264214Z"
    },
    "papermill": {
     "duration": 0.023308,
     "end_time": "2023-08-18T18:26:05.267168",
     "exception": false,
     "start_time": "2023-08-18T18:26:05.243860",
     "status": "completed"
    },
    "tags": []
   },
   "outputs": [
    {
     "data": {
      "application/javascript": [
       "parent.postMessage({\"jupyterEvent\": \"custom.exercise_interaction\", \"data\": {\"outcomeType\": 4, \"interactionType\": 1, \"questionType\": 2, \"questionId\": \"3_MultiWordSearch\", \"learnToolsVersion\": \"0.3.4\", \"valueTowardsCompletion\": 0.0, \"failureMessage\": \"\", \"exceptionClass\": \"\", \"trace\": \"\"}}, \"*\")"
      ],
      "text/plain": [
       "<IPython.core.display.Javascript object>"
      ]
     },
     "metadata": {},
     "output_type": "display_data"
    },
    {
     "data": {
      "text/markdown": [
       "<span style=\"color:#ccaa33\">Check:</span> When you've updated the starter code, `check()` will tell you whether your code is correct. "
      ],
      "text/plain": [
       "Check: When you've updated the starter code, `check()` will tell you whether your code is correct. "
      ]
     },
     "metadata": {},
     "output_type": "display_data"
    }
   ],
   "source": [
    "def multi_word_search(doc_list, keywords):\n",
    "    \"\"\"\n",
    "    Takes list of documents (each document is a string) and a list of keywords.  \n",
    "    Returns a dictionary where each key is a keyword, and the value is a list of indices\n",
    "    (from doc_list) of the documents containing that keyword\n",
    "\n",
    "    >>> doc_list = [\"The Learn Python Challenge Casino.\", \"They bought a car and a casino\", \"Casinoville\"]\n",
    "    >>> keywords = ['casino', 'they']\n",
    "    >>> multi_word_search(doc_list, keywords)\n",
    "    {'casino': [0, 1], 'they': [1]}\n",
    "    \"\"\"\n",
    "    pass\n",
    "\n",
    "# Check your answer\n",
    "q3.check()"
   ]
  },
  {
   "cell_type": "code",
   "execution_count": 12,
   "id": "5b7caba3",
   "metadata": {
    "execution": {
     "iopub.execute_input": "2023-08-18T18:26:05.290034Z",
     "iopub.status.busy": "2023-08-18T18:26:05.289316Z",
     "iopub.status.idle": "2023-08-18T18:26:05.293890Z",
     "shell.execute_reply": "2023-08-18T18:26:05.292779Z"
    },
    "papermill": {
     "duration": 0.019183,
     "end_time": "2023-08-18T18:26:05.296728",
     "exception": false,
     "start_time": "2023-08-18T18:26:05.277545",
     "status": "completed"
    },
    "tags": []
   },
   "outputs": [],
   "source": [
    "#q3.solution()"
   ]
  },
  {
   "cell_type": "markdown",
   "id": "21f8f955",
   "metadata": {
    "papermill": {
     "duration": 0.009855,
     "end_time": "2023-08-18T18:26:05.316703",
     "exception": false,
     "start_time": "2023-08-18T18:26:05.306848",
     "status": "completed"
    },
    "tags": []
   },
   "source": [
    "# Keep Going\n",
    "\n",
    "You've learned a lot. But even the best programmers rely heavily on \"libraries\" of code from other programmers. You'll learn about that in **[the last lesson](https://www.kaggle.com/colinmorris/working-with-external-libraries)**.\n"
   ]
  },
  {
   "cell_type": "markdown",
   "id": "99e558c8",
   "metadata": {
    "papermill": {
     "duration": 0.009687,
     "end_time": "2023-08-18T18:26:05.336576",
     "exception": false,
     "start_time": "2023-08-18T18:26:05.326889",
     "status": "completed"
    },
    "tags": []
   },
   "source": [
    "---\n",
    "\n",
    "\n",
    "\n",
    "\n",
    "*Have questions or comments? Visit the [course discussion forum](https://www.kaggle.com/learn/python/discussion) to chat with other learners.*"
   ]
  }
 ],
 "metadata": {
  "kernelspec": {
   "display_name": "Python 3",
   "language": "python",
   "name": "python3"
  },
  "language_info": {
   "codemirror_mode": {
    "name": "ipython",
    "version": 3
   },
   "file_extension": ".py",
   "mimetype": "text/x-python",
   "name": "python",
   "nbconvert_exporter": "python",
   "pygments_lexer": "ipython3",
   "version": "3.10.12"
  },
  "papermill": {
   "default_parameters": {},
   "duration": 13.310048,
   "end_time": "2023-08-18T18:26:06.167861",
   "environment_variables": {},
   "exception": null,
   "input_path": "__notebook__.ipynb",
   "output_path": "__notebook__.ipynb",
   "parameters": {},
   "start_time": "2023-08-18T18:25:52.857813",
   "version": "2.4.0"
  }
 },
 "nbformat": 4,
 "nbformat_minor": 5
}
