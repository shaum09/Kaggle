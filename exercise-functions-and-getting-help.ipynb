{
 "cells": [
  {
   "cell_type": "markdown",
   "id": "2dbe0b66",
   "metadata": {
    "papermill": {
     "duration": 0.007018,
     "end_time": "2023-08-16T18:18:47.862542",
     "exception": false,
     "start_time": "2023-08-16T18:18:47.855524",
     "status": "completed"
    },
    "tags": []
   },
   "source": [
    "**This notebook is an exercise in the [Python](https://www.kaggle.com/learn/python) course.  You can reference the tutorial at [this link](https://www.kaggle.com/colinmorris/functions-and-getting-help).**\n",
    "\n",
    "---\n"
   ]
  },
  {
   "cell_type": "markdown",
   "id": "9a50f208",
   "metadata": {
    "papermill": {
     "duration": 0.005828,
     "end_time": "2023-08-16T18:18:47.876346",
     "exception": false,
     "start_time": "2023-08-16T18:18:47.870518",
     "status": "completed"
    },
    "tags": []
   },
   "source": [
    "Functions are powerful. Try writing some yourself.\n",
    "\n",
    "As before, don't forget to run the setup code below before jumping into question 1."
   ]
  },
  {
   "cell_type": "code",
   "execution_count": 1,
   "id": "2cb112f0",
   "metadata": {
    "_kg_hide-input": true,
    "_kg_hide-output": true,
    "execution": {
     "iopub.execute_input": "2023-08-16T18:18:47.890553Z",
     "iopub.status.busy": "2023-08-16T18:18:47.890139Z",
     "iopub.status.idle": "2023-08-16T18:18:47.933671Z",
     "shell.execute_reply": "2023-08-16T18:18:47.932603Z"
    },
    "papermill": {
     "duration": 0.0535,
     "end_time": "2023-08-16T18:18:47.936105",
     "exception": false,
     "start_time": "2023-08-16T18:18:47.882605",
     "status": "completed"
    },
    "tags": []
   },
   "outputs": [
    {
     "name": "stdout",
     "output_type": "stream",
     "text": [
      "Setup complete.\n"
     ]
    }
   ],
   "source": [
    "# SETUP. You don't need to worry for now about what this code does or how it works.\n",
    "from learntools.core import binder; binder.bind(globals())\n",
    "from learntools.python.ex2 import *\n",
    "print('Setup complete.')"
   ]
  },
  {
   "cell_type": "markdown",
   "id": "304598f0",
   "metadata": {
    "papermill": {
     "duration": 0.006072,
     "end_time": "2023-08-16T18:18:47.948458",
     "exception": false,
     "start_time": "2023-08-16T18:18:47.942386",
     "status": "completed"
    },
    "tags": []
   },
   "source": [
    "# 1.\n",
    "\n",
    "Complete the body of the following function according to its docstring.\n",
    "\n",
    "HINT: Python has a built-in function `round`."
   ]
  },
  {
   "cell_type": "code",
   "execution_count": 2,
   "id": "e8bc7666",
   "metadata": {
    "execution": {
     "iopub.execute_input": "2023-08-16T18:18:47.962582Z",
     "iopub.status.busy": "2023-08-16T18:18:47.961737Z",
     "iopub.status.idle": "2023-08-16T18:18:47.974305Z",
     "shell.execute_reply": "2023-08-16T18:18:47.973271Z"
    },
    "papermill": {
     "duration": 0.022115,
     "end_time": "2023-08-16T18:18:47.976559",
     "exception": false,
     "start_time": "2023-08-16T18:18:47.954444",
     "status": "completed"
    },
    "tags": []
   },
   "outputs": [
    {
     "data": {
      "application/javascript": [
       "parent.postMessage({\"jupyterEvent\": \"custom.exercise_interaction\", \"data\": {\"outcomeType\": 1, \"valueTowardsCompletion\": 0.16666666666666666, \"interactionType\": 1, \"questionType\": 2, \"questionId\": \"1_RoundFunctionProblem\", \"learnToolsVersion\": \"0.3.4\", \"failureMessage\": \"\", \"exceptionClass\": \"\", \"trace\": \"\"}}, \"*\")"
      ],
      "text/plain": [
       "<IPython.core.display.Javascript object>"
      ]
     },
     "metadata": {},
     "output_type": "display_data"
    },
    {
     "data": {
      "text/markdown": [
       "<span style=\"color:#33cc33\">Correct</span>"
      ],
      "text/plain": [
       "Correct"
      ]
     },
     "metadata": {},
     "output_type": "display_data"
    }
   ],
   "source": [
    "def round_to_two_places(num):\n",
    "    \"\"\"Return the given number rounded to two decimal places. \n",
    "    \n",
    "    >>> round_to_two_places(3.14159)\n",
    "    3.14\n",
    "    \"\"\"\n",
    "    # Replace this body with your own code.\n",
    "    # (\"pass\" is a keyword that does literally nothing. We used it as a placeholder\n",
    "    # because after we begin a code block, Python requires at least one line of code)\n",
    "    pass\n",
    "    return round(num, 2)\n",
    "# Check your answer\n",
    "q1.check()"
   ]
  },
  {
   "cell_type": "code",
   "execution_count": 3,
   "id": "3c500fd5",
   "metadata": {
    "execution": {
     "iopub.execute_input": "2023-08-16T18:18:47.992348Z",
     "iopub.status.busy": "2023-08-16T18:18:47.991587Z",
     "iopub.status.idle": "2023-08-16T18:18:48.004973Z",
     "shell.execute_reply": "2023-08-16T18:18:48.003780Z"
    },
    "papermill": {
     "duration": 0.024285,
     "end_time": "2023-08-16T18:18:48.007452",
     "exception": false,
     "start_time": "2023-08-16T18:18:47.983167",
     "status": "completed"
    },
    "tags": []
   },
   "outputs": [
    {
     "data": {
      "application/javascript": [
       "parent.postMessage({\"jupyterEvent\": \"custom.exercise_interaction\", \"data\": {\"interactionType\": 2, \"questionType\": 2, \"questionId\": \"1_RoundFunctionProblem\", \"learnToolsVersion\": \"0.3.4\", \"valueTowardsCompletion\": 0.0, \"failureMessage\": \"\", \"exceptionClass\": \"\", \"trace\": \"\", \"outcomeType\": 4}}, \"*\")"
      ],
      "text/plain": [
       "<IPython.core.display.Javascript object>"
      ]
     },
     "metadata": {},
     "output_type": "display_data"
    },
    {
     "data": {
      "text/markdown": [
       "<span style=\"color:#3366cc\">Hint:</span> Run `help(round)` in the console (or in a code cell) to learn more about the round function. You'll need to use the function's optional second argument."
      ],
      "text/plain": [
       "Hint: Run `help(round)` in the console (or in a code cell) to learn more about the round function. You'll need to use the function's optional second argument."
      ]
     },
     "metadata": {},
     "output_type": "display_data"
    },
    {
     "data": {
      "application/javascript": [
       "parent.postMessage({\"jupyterEvent\": \"custom.exercise_interaction\", \"data\": {\"interactionType\": 3, \"questionType\": 2, \"questionId\": \"1_RoundFunctionProblem\", \"learnToolsVersion\": \"0.3.4\", \"valueTowardsCompletion\": 0.0, \"failureMessage\": \"\", \"exceptionClass\": \"\", \"trace\": \"\", \"outcomeType\": 4}}, \"*\")"
      ],
      "text/plain": [
       "<IPython.core.display.Javascript object>"
      ]
     },
     "metadata": {},
     "output_type": "display_data"
    },
    {
     "data": {
      "text/markdown": [
       "<span style=\"color:#33cc99\">Solution:</span> \n",
       "```python\n",
       "return round(num, 2)\n",
       "```"
      ],
      "text/plain": [
       "Solution: \n",
       "```python\n",
       "return round(num, 2)\n",
       "```"
      ]
     },
     "metadata": {},
     "output_type": "display_data"
    }
   ],
   "source": [
    "# Uncomment the following for a hint\n",
    "q1.hint()\n",
    "# Or uncomment the following to peek at the solution\n",
    "q1.solution()"
   ]
  },
  {
   "cell_type": "markdown",
   "id": "e3cc3ea1",
   "metadata": {
    "papermill": {
     "duration": 0.007137,
     "end_time": "2023-08-16T18:18:48.021830",
     "exception": false,
     "start_time": "2023-08-16T18:18:48.014693",
     "status": "completed"
    },
    "tags": []
   },
   "source": [
    "# 2.\n",
    "The help for `round` says that `ndigits` (the second argument) may be negative.\n",
    "What do you think will happen when it is? Try some examples in the following cell."
   ]
  },
  {
   "cell_type": "code",
   "execution_count": 4,
   "id": "5b41b60c",
   "metadata": {
    "execution": {
     "iopub.execute_input": "2023-08-16T18:18:48.038697Z",
     "iopub.status.busy": "2023-08-16T18:18:48.038287Z",
     "iopub.status.idle": "2023-08-16T18:18:48.044607Z",
     "shell.execute_reply": "2023-08-16T18:18:48.043624Z"
    },
    "papermill": {
     "duration": 0.017795,
     "end_time": "2023-08-16T18:18:48.046995",
     "exception": false,
     "start_time": "2023-08-16T18:18:48.029200",
     "status": "completed"
    },
    "tags": []
   },
   "outputs": [
    {
     "data": {
      "text/plain": [
       "25300.0"
      ]
     },
     "execution_count": 4,
     "metadata": {},
     "output_type": "execute_result"
    }
   ],
   "source": [
    "# Put your test code here\n",
    "round(25323.3424,-2)"
   ]
  },
  {
   "cell_type": "markdown",
   "id": "3d5d6840",
   "metadata": {
    "papermill": {
     "duration": 0.008224,
     "end_time": "2023-08-16T18:18:48.062738",
     "exception": false,
     "start_time": "2023-08-16T18:18:48.054514",
     "status": "completed"
    },
    "tags": []
   },
   "source": [
    "Can you think of a case where this would be useful?  Once you're ready, run the code cell below to see the answer and to receive credit for completing the problem."
   ]
  },
  {
   "cell_type": "code",
   "execution_count": 5,
   "id": "50015879",
   "metadata": {
    "execution": {
     "iopub.execute_input": "2023-08-16T18:18:48.079430Z",
     "iopub.status.busy": "2023-08-16T18:18:48.078801Z",
     "iopub.status.idle": "2023-08-16T18:18:48.087394Z",
     "shell.execute_reply": "2023-08-16T18:18:48.086420Z"
    },
    "papermill": {
     "duration": 0.019521,
     "end_time": "2023-08-16T18:18:48.089562",
     "exception": false,
     "start_time": "2023-08-16T18:18:48.070041",
     "status": "completed"
    },
    "tags": []
   },
   "outputs": [
    {
     "data": {
      "application/javascript": [
       "parent.postMessage({\"jupyterEvent\": \"custom.exercise_interaction\", \"data\": {\"interactionType\": 3, \"questionType\": 4, \"questionId\": \"2_RoundNdigitsProblem\", \"learnToolsVersion\": \"0.3.4\", \"valueTowardsCompletion\": 0.0, \"failureMessage\": \"\", \"exceptionClass\": \"\", \"trace\": \"\", \"outcomeType\": 4}}, \"*\")"
      ],
      "text/plain": [
       "<IPython.core.display.Javascript object>"
      ]
     },
     "metadata": {},
     "output_type": "display_data"
    },
    {
     "data": {
      "text/markdown": [
       "<span style=\"color:#33cc99\">Solution:</span> As you've seen, `ndigits=-1` rounds to the nearest 10, `ndigits=-2` rounds to the nearest 100 and so on. Where might this be useful? Suppose we're dealing with large numbers:\n",
       "\n",
       "> The area of Finland is 338,424 km²  \n",
       "> The area of Greenland is 2,166,086 km²\n",
       "\n",
       "We probably don't care whether it's really 338,424, or 338,425, or 338,177. All those digits of accuracy are just distracting. We can chop them off by calling `round()` with `ndigits=-3`:\n",
       "\n",
       "> The area of Finland is 338,000 km²  \n",
       "> The area of Greenland is 2,166,000 km²\n",
       "\n",
       "(We'll talk about how we would get the commas later when we talk about string formatting :))\n"
      ],
      "text/plain": [
       "Solution: As you've seen, `ndigits=-1` rounds to the nearest 10, `ndigits=-2` rounds to the nearest 100 and so on. Where might this be useful? Suppose we're dealing with large numbers:\n",
       "\n",
       "> The area of Finland is 338,424 km²  \n",
       "> The area of Greenland is 2,166,086 km²\n",
       "\n",
       "We probably don't care whether it's really 338,424, or 338,425, or 338,177. All those digits of accuracy are just distracting. We can chop them off by calling `round()` with `ndigits=-3`:\n",
       "\n",
       "> The area of Finland is 338,000 km²  \n",
       "> The area of Greenland is 2,166,000 km²\n",
       "\n",
       "(We'll talk about how we would get the commas later when we talk about string formatting :))"
      ]
     },
     "metadata": {},
     "output_type": "display_data"
    }
   ],
   "source": [
    "# Check your answer (Run this code cell to receive credit!)\n",
    "q2.solution()"
   ]
  },
  {
   "cell_type": "markdown",
   "id": "67b8b683",
   "metadata": {
    "papermill": {
     "duration": 0.007532,
     "end_time": "2023-08-16T18:18:48.105013",
     "exception": false,
     "start_time": "2023-08-16T18:18:48.097481",
     "status": "completed"
    },
    "tags": []
   },
   "source": [
    "# 3.\n",
    "\n",
    "In the previous exercise, the candy-sharing friends Alice, Bob and Carol tried to split candies evenly. For the sake of their friendship, any candies left over would be smashed. For example, if they collectively bring home 91 candies, they'll take 30 each and smash 1.\n",
    "\n",
    "Below is a simple function that will calculate the number of candies to smash for *any* number of total candies.\n",
    "\n",
    "Modify it so that it optionally takes a second argument representing the number of friends the candies are being split between. If no second argument is provided, it should assume 3 friends, as before.\n",
    "\n",
    "Update the docstring to reflect this new behaviour."
   ]
  },
  {
   "cell_type": "code",
   "execution_count": 6,
   "id": "091ed19e",
   "metadata": {
    "execution": {
     "iopub.execute_input": "2023-08-16T18:18:48.122616Z",
     "iopub.status.busy": "2023-08-16T18:18:48.122051Z",
     "iopub.status.idle": "2023-08-16T18:18:48.130464Z",
     "shell.execute_reply": "2023-08-16T18:18:48.129653Z"
    },
    "papermill": {
     "duration": 0.019673,
     "end_time": "2023-08-16T18:18:48.132520",
     "exception": false,
     "start_time": "2023-08-16T18:18:48.112847",
     "status": "completed"
    },
    "tags": []
   },
   "outputs": [
    {
     "data": {
      "application/javascript": [
       "parent.postMessage({\"jupyterEvent\": \"custom.exercise_interaction\", \"data\": {\"outcomeType\": 1, \"valueTowardsCompletion\": 0.16666666666666666, \"interactionType\": 1, \"questionType\": 2, \"questionId\": \"3_CandySmashingFunctionProblem\", \"learnToolsVersion\": \"0.3.4\", \"failureMessage\": \"\", \"exceptionClass\": \"\", \"trace\": \"\"}}, \"*\")"
      ],
      "text/plain": [
       "<IPython.core.display.Javascript object>"
      ]
     },
     "metadata": {},
     "output_type": "display_data"
    },
    {
     "data": {
      "text/markdown": [
       "<span style=\"color:#33cc33\">Correct</span>"
      ],
      "text/plain": [
       "Correct"
      ]
     },
     "metadata": {},
     "output_type": "display_data"
    }
   ],
   "source": [
    "def to_smash(total_candies, n_friends=3):\n",
    "    \"\"\"Return the number of leftover candies that must be smashed after distributing\n",
    "    the given number of candies evenly between 3 friends.\n",
    "    \n",
    "    >>> to_smash(91)\n",
    "    1\n",
    "    \"\"\"\n",
    "    return total_candies % n_friends\n",
    "\n",
    "# Check your answer\n",
    "q3.check()"
   ]
  },
  {
   "cell_type": "code",
   "execution_count": 7,
   "id": "794222fa",
   "metadata": {
    "execution": {
     "iopub.execute_input": "2023-08-16T18:18:48.150911Z",
     "iopub.status.busy": "2023-08-16T18:18:48.150234Z",
     "iopub.status.idle": "2023-08-16T18:18:48.158433Z",
     "shell.execute_reply": "2023-08-16T18:18:48.157398Z"
    },
    "papermill": {
     "duration": 0.019935,
     "end_time": "2023-08-16T18:18:48.160708",
     "exception": false,
     "start_time": "2023-08-16T18:18:48.140773",
     "status": "completed"
    },
    "tags": []
   },
   "outputs": [
    {
     "data": {
      "application/javascript": [
       "parent.postMessage({\"jupyterEvent\": \"custom.exercise_interaction\", \"data\": {\"interactionType\": 2, \"questionType\": 2, \"questionId\": \"3_CandySmashingFunctionProblem\", \"learnToolsVersion\": \"0.3.4\", \"valueTowardsCompletion\": 0.0, \"failureMessage\": \"\", \"exceptionClass\": \"\", \"trace\": \"\", \"outcomeType\": 4}}, \"*\")"
      ],
      "text/plain": [
       "<IPython.core.display.Javascript object>"
      ]
     },
     "metadata": {},
     "output_type": "display_data"
    },
    {
     "data": {
      "text/markdown": [
       "<span style=\"color:#3366cc\">Hint:</span> Refer to the section of the last tutorial notebook where we talked about default arguments"
      ],
      "text/plain": [
       "Hint: Refer to the section of the last tutorial notebook where we talked about default arguments"
      ]
     },
     "metadata": {},
     "output_type": "display_data"
    }
   ],
   "source": [
    "q3.hint()"
   ]
  },
  {
   "cell_type": "code",
   "execution_count": 8,
   "id": "6a8791ff",
   "metadata": {
    "execution": {
     "iopub.execute_input": "2023-08-16T18:18:48.179391Z",
     "iopub.status.busy": "2023-08-16T18:18:48.178983Z",
     "iopub.status.idle": "2023-08-16T18:18:48.187117Z",
     "shell.execute_reply": "2023-08-16T18:18:48.186311Z"
    },
    "papermill": {
     "duration": 0.019925,
     "end_time": "2023-08-16T18:18:48.189175",
     "exception": false,
     "start_time": "2023-08-16T18:18:48.169250",
     "status": "completed"
    },
    "tags": []
   },
   "outputs": [
    {
     "data": {
      "application/javascript": [
       "parent.postMessage({\"jupyterEvent\": \"custom.exercise_interaction\", \"data\": {\"interactionType\": 3, \"questionType\": 2, \"questionId\": \"3_CandySmashingFunctionProblem\", \"learnToolsVersion\": \"0.3.4\", \"valueTowardsCompletion\": 0.0, \"failureMessage\": \"\", \"exceptionClass\": \"\", \"trace\": \"\", \"outcomeType\": 4}}, \"*\")"
      ],
      "text/plain": [
       "<IPython.core.display.Javascript object>"
      ]
     },
     "metadata": {},
     "output_type": "display_data"
    },
    {
     "data": {
      "text/markdown": [
       "<span style=\"color:#33cc99\">Solution:</span> \n",
       "```python\n",
       "def to_smash(total_candies, n_friends=3):\n",
       "    return total_candies % n_friends\n",
       "```"
      ],
      "text/plain": [
       "Solution: \n",
       "```python\n",
       "def to_smash(total_candies, n_friends=3):\n",
       "    return total_candies % n_friends\n",
       "```"
      ]
     },
     "metadata": {},
     "output_type": "display_data"
    }
   ],
   "source": [
    "q3.solution()"
   ]
  },
  {
   "cell_type": "markdown",
   "id": "1f466dee",
   "metadata": {
    "papermill": {
     "duration": 0.008542,
     "end_time": "2023-08-16T18:18:48.206605",
     "exception": false,
     "start_time": "2023-08-16T18:18:48.198063",
     "status": "completed"
    },
    "tags": []
   },
   "source": [
    "# 4. (Optional)\n",
    "\n",
    "It may not be fun, but reading and understanding error messages will be an important part of your Python career.\n",
    "\n",
    "Each code cell below contains some commented buggy code. For each cell...\n",
    "\n",
    "1. Read the code and predict what you think will happen when it's run.\n",
    "2. Then uncomment the code and run it to see what happens. (**Tip**: In the kernel editor, you can highlight several lines and press `ctrl`+`/` to toggle commenting.)\n",
    "3. Fix the code (so that it accomplishes its intended purpose without throwing an exception)\n",
    "\n",
    "<!-- TODO: should this be autochecked? Delta is probably pretty small. -->"
   ]
  },
  {
   "cell_type": "code",
   "execution_count": 9,
   "id": "81f25af6",
   "metadata": {
    "execution": {
     "iopub.execute_input": "2023-08-16T18:18:48.226376Z",
     "iopub.status.busy": "2023-08-16T18:18:48.225293Z",
     "iopub.status.idle": "2023-08-16T18:18:48.231711Z",
     "shell.execute_reply": "2023-08-16T18:18:48.230981Z"
    },
    "papermill": {
     "duration": 0.018239,
     "end_time": "2023-08-16T18:18:48.233648",
     "exception": false,
     "start_time": "2023-08-16T18:18:48.215409",
     "status": "completed"
    },
    "tags": []
   },
   "outputs": [
    {
     "data": {
      "text/plain": [
       "10.0"
      ]
     },
     "execution_count": 9,
     "metadata": {},
     "output_type": "execute_result"
    }
   ],
   "source": [
    "round_to_two_places(9.9999)"
   ]
  },
  {
   "cell_type": "code",
   "execution_count": 10,
   "id": "4fdedf55",
   "metadata": {
    "execution": {
     "iopub.execute_input": "2023-08-16T18:18:48.253146Z",
     "iopub.status.busy": "2023-08-16T18:18:48.252311Z",
     "iopub.status.idle": "2023-08-16T18:18:48.256658Z",
     "shell.execute_reply": "2023-08-16T18:18:48.255950Z"
    },
    "papermill": {
     "duration": 0.016251,
     "end_time": "2023-08-16T18:18:48.258675",
     "exception": false,
     "start_time": "2023-08-16T18:18:48.242424",
     "status": "completed"
    },
    "tags": []
   },
   "outputs": [],
   "source": [
    "x = -10\n",
    "y = 5\n",
    "# Which of the two variables above has the smallest absolute value?\n",
    "smallest_abs = abs(min(x, y))"
   ]
  },
  {
   "cell_type": "code",
   "execution_count": 11,
   "id": "7df3c483",
   "metadata": {
    "execution": {
     "iopub.execute_input": "2023-08-16T18:18:48.278439Z",
     "iopub.status.busy": "2023-08-16T18:18:48.277786Z",
     "iopub.status.idle": "2023-08-16T18:18:48.283393Z",
     "shell.execute_reply": "2023-08-16T18:18:48.282215Z"
    },
    "papermill": {
     "duration": 0.018072,
     "end_time": "2023-08-16T18:18:48.285564",
     "exception": false,
     "start_time": "2023-08-16T18:18:48.267492",
     "status": "completed"
    },
    "tags": []
   },
   "outputs": [
    {
     "name": "stdout",
     "output_type": "stream",
     "text": [
      "5\n"
     ]
    }
   ],
   "source": [
    "def f(x):\n",
    "    y = abs(x)\n",
    "    return y\n",
    "\n",
    "print(f(5))"
   ]
  },
  {
   "cell_type": "markdown",
   "id": "d212000d",
   "metadata": {
    "papermill": {
     "duration": 0.008672,
     "end_time": "2023-08-16T18:18:48.303216",
     "exception": false,
     "start_time": "2023-08-16T18:18:48.294544",
     "status": "completed"
    },
    "tags": []
   },
   "source": [
    "# Keep Going\n",
    "\n",
    "Nice job with the code. Next up, you'll learn about *conditionals*, which you'll need to **[write interesting programs](https://www.kaggle.com/colinmorris/booleans-and-conditionals)**. "
   ]
  },
  {
   "cell_type": "markdown",
   "id": "344d628c",
   "metadata": {
    "papermill": {
     "duration": 0.008611,
     "end_time": "2023-08-16T18:18:48.320840",
     "exception": false,
     "start_time": "2023-08-16T18:18:48.312229",
     "status": "completed"
    },
    "tags": []
   },
   "source": [
    "---\n",
    "\n",
    "\n",
    "\n",
    "\n",
    "*Have questions or comments? Visit the [Learn Discussion forum](https://www.kaggle.com/learn-forum/161283) to chat with other Learners.*"
   ]
  }
 ],
 "metadata": {
  "kernelspec": {
   "display_name": "Python 3",
   "language": "python",
   "name": "python3"
  },
  "language_info": {
   "codemirror_mode": {
    "name": "ipython",
    "version": 3
   },
   "file_extension": ".py",
   "mimetype": "text/x-python",
   "name": "python",
   "nbconvert_exporter": "python",
   "pygments_lexer": "ipython3",
   "version": "3.10.12"
  },
  "papermill": {
   "default_parameters": {},
   "duration": 12.08942,
   "end_time": "2023-08-16T18:18:49.150891",
   "environment_variables": {},
   "exception": null,
   "input_path": "__notebook__.ipynb",
   "output_path": "__notebook__.ipynb",
   "parameters": {},
   "start_time": "2023-08-16T18:18:37.061471",
   "version": "2.4.0"
  }
 },
 "nbformat": 4,
 "nbformat_minor": 5
}
